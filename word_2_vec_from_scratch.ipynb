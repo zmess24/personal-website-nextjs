{
  "nbformat": 4,
  "nbformat_minor": 0,
  "metadata": {
    "colab": {
      "provenance": [],
      "machine_shape": "hm",
      "gpuType": "T4",
      "authorship_tag": "ABX9TyNFDPbjOl25xTeiRtC5Z+rx",
      "include_colab_link": true
    },
    "kernelspec": {
      "name": "python3",
      "display_name": "Python 3"
    },
    "language_info": {
      "name": "python"
    },
    "accelerator": "GPU"
  },
  "cells": [
    {
      "cell_type": "markdown",
      "metadata": {
        "id": "view-in-github",
        "colab_type": "text"
      },
      "source": [
        "<a href=\"https://colab.research.google.com/github/zmess24/personal-website-nextjs/blob/main/word_2_vec_from_scratch.ipynb\" target=\"_parent\"><img src=\"https://colab.research.google.com/assets/colab-badge.svg\" alt=\"Open In Colab\"/></a>"
      ]
    },
    {
      "cell_type": "markdown",
      "source": [
        "After dipping our toes into the waters of Natural Language Processing (NLP) in [my last post](https://www.zacmessinger.com/posts/intro-to-nlp-with-tfidf), we'll be continuing today by exploring one of the most fundamental components of text based deep learning models - word embeddings. Chances are high that you've probably encountered the term \"word embeddings\" in the buzzing AI community recently. But what are they? Why are they useful? And how do they work?\n",
        "\n",
        "Today, we're not just going to answer these questions – we're going to get our hands dirty by building a basic version of one of the pioneering word embedding models: Word2Vec."
      ],
      "metadata": {
        "id": "NAnZecDQG0nL"
      }
    },
    {
      "cell_type": "markdown",
      "source": [
        "### What is a Word Embedding?\n",
        "\n",
        "[In my previous post](https://www.zacmessinger.com/posts/intro-to-nlp-with-tfidf), we broke down one of the oldest NLP methods, TF-IDF vectorization, and explored how it’s an extremely low-cost solution for implementing tasks like relevance ranking based on a set of keywords. However, while TF-IDF can tell us the importance of particular words among a collection of documents, it can’t provide any information about the semantic meaning of those words—such as the meaning or interpretation of a word, phrase, sentence, or text in a specific context. Enter word embeddings!\n",
        "\n",
        "Word embeddings represent a significant improvement over traditional techniques like TF-IDF by capturing the nuanced relationships between words, rather than just their frequency and importance. Unlike traditional one-hot encoding, which represents words as sparse vectors, word embeddings capture context and semantic relationships between words through dense vectors of floating-point values. This enables more sophisticated and meaningful text analysis, making them incredibly useful in various NLP tasks such as text classification, sentiment analysis, and more. Furthermore, word embeddings are integral components of every large language model (LLM) architecture, serving as the backbone that allows each LLM to translate input text into machine-readable information.\n",
        "\n",
        "As mentioned, we’ll be implementing Word2Vec, a pioneering neural network-based model introduced by Mikolov et al. in 2013, designed to learn high-quality word embeddings from large text corpora. It operates by predicting words within a local context window, capturing semantic and syntactic relationships between words, and its simplicity and effectiveness have influenced the development of more advanced models, including the aforementioned LLMs.\n",
        "\n",
        "There are two main approaches within Word2Vec: Skip-gram, which predicts context words given a target word, and Continuous Bag of Words (CBOW), which predicts a target word based on its surrounding context words. Today, we’ll be implementing Skip-gram. Buckle up, here we go!"
      ],
      "metadata": {
        "id": "iowX_zz9iHv-"
      }
    },
    {
      "cell_type": "markdown",
      "source": [
        "### Import Libraries"
      ],
      "metadata": {
        "id": "4T1yKJNZAk7w"
      }
    },
    {
      "cell_type": "markdown",
      "source": [
        "To start, let's go through the routine process of importing a few libraries that we'll use throughout the remainder of this post."
      ],
      "metadata": {
        "id": "mHmiBnJLPCJ-"
      }
    },
    {
      "cell_type": "code",
      "source": [
        "# Core Libraries\n",
        "import torch\n",
        "\n",
        "# Data Visualization\n",
        "import matplotlib.pyplot as plt\n",
        "\n",
        "# Progress Measurement Library\n",
        "from tqdm import tqdm\n",
        "\n",
        "# Web Scraping & TorchInfo\n",
        "try:\n",
        "  !pip install beautifulsoup4 torchinfo -q\n",
        "  from bs4 import BeautifulSoup\n",
        "  import requests\n",
        "except:\n",
        "  from bs4 import BeautifulSoup\n",
        "  import requests"
      ],
      "metadata": {
        "id": "rfDSldEMAVc0"
      },
      "execution_count": 31,
      "outputs": []
    },
    {
      "cell_type": "markdown",
      "source": [
        "Additionally, let's enable device agnostic code so we can easily switch our runtimes between using a GPU or CPU depending on what resources are available on our Google Colab environment."
      ],
      "metadata": {
        "id": "7jrUcLXOC7Q2"
      }
    },
    {
      "cell_type": "code",
      "source": [
        "device = torch.device(\"cuda\" if torch.cuda.is_available() else \"cpu\")"
      ],
      "metadata": {
        "id": "Hu6HvTgTC2Hs"
      },
      "execution_count": 2,
      "outputs": []
    },
    {
      "cell_type": "markdown",
      "source": [
        "### Downloading a Dataset\n",
        "\n",
        "As with any machine learning project, the first step is to download and prepare a dataset to train our model.\n",
        "\n",
        "Most modern word embeddings are trained on terabytes of text data from diverse sources, enabling the models to capture a wide range of linguistic patterns and knowledge. However, since we are implementing a simple example, we will work with a much smaller corpus—a single Wikipedia article. An article on Machine Learning seems like an appropriate starting point!\n",
        "\n",
        "Let’s begin by scraping the text from the Wikipedia article using the requests library, with a little help from BeautifulSoup.\n",
        "\n"
      ],
      "metadata": {
        "id": "xYP3vOeBAndN"
      }
    },
    {
      "cell_type": "code",
      "source": [
        "# URL of the ESPN article\n",
        "url = \"https://en.wikipedia.org/wiki/Machine_learning\"\n",
        "\n",
        "# Fetch the HTML content of the page\n",
        "response = requests.get(url)\n",
        "html_content = response.content\n",
        "\n",
        "# Parse the HTML content using BeautifulSoup\n",
        "soup = BeautifulSoup(html_content, 'html.parser')\n",
        "\n",
        "# Extract the article text\n",
        "content = soup.find(\"div\", {\"id\": \"mw-content-text\"})\n",
        "paragraphs = content.find_all('p')\n",
        "\n",
        "# # Combine the paragraphs into a single string\n",
        "article_text = \"\\n\".join([p.get_text() for p in paragraphs])"
      ],
      "metadata": {
        "id": "xlOBbz__ftJw"
      },
      "execution_count": 3,
      "outputs": []
    },
    {
      "cell_type": "markdown",
      "source": [
        "To confirm we downloaded everything OK, let's look at the first 1000 characters."
      ],
      "metadata": {
        "id": "IfxP9cNx6_FN"
      }
    },
    {
      "cell_type": "code",
      "source": [
        "article_text[:1000]"
      ],
      "metadata": {
        "colab": {
          "base_uri": "https://localhost:8080/",
          "height": 143
        },
        "id": "k1vd2pKo69zw",
        "outputId": "a9032d0e-82c0-4fb0-b862-20f1a6bf588c"
      },
      "execution_count": 4,
      "outputs": [
        {
          "output_type": "execute_result",
          "data": {
            "text/plain": [
              "\"Machine learning (ML) is a field of study in artificial intelligence concerned with the development and study of statistical algorithms that can learn from data and generalize to unseen data, and thus perform tasks without explicit instructions.[1] Recently, artificial neural networks have been able to surpass many previous approaches in performance.[2][3]\\n\\nML finds application in many fields, including natural language processing, computer vision, speech recognition, email filtering, agriculture, and medicine.[4][5] When applied to business problems, it is known under the name predictive analytics. Although not all machine learning is statistically based, computational statistics is an important source of the field's methods.\\n\\nThe mathematical foundations of ML are provided by mathematical optimization (mathematical programming) methods. Data mining is a related (parallel) field of study, focusing on exploratory data analysis (EDA) through unsupervised learning.[7][8]\\n\\nFrom a theoreti\""
            ],
            "application/vnd.google.colaboratory.intrinsic+json": {
              "type": "string"
            }
          },
          "metadata": {},
          "execution_count": 4
        }
      ]
    },
    {
      "cell_type": "markdown",
      "source": [
        "Next, we'll need to perform a little data preprocessing in order to prepare our newly acquired corpus for use in the training of our Word2Vec model, and much of the work we'll do here might look familar if you read my last blog post, [Intro to NLP with TF-IDF Vectorization](https://www.zacmessinger.com/posts/intro-to-nlp-with-tfidf). To quickly define what we'll be creating from the raw article text we just downloaded:\n",
        "\n",
        "* `tokens`: A sanitized list of individual words.\n",
        "* `vocab`: A sorted set of every unique word in our corpus.\n",
        "* `word_to_idx`: A lookup table where each unique word in our vocab set is mapped to it's index position.\n",
        "* `idx_to_word`: A lookup table where the sorted index position of each unique word in our vocab set is mapped to it's associated word."
      ],
      "metadata": {
        "id": "qlSysAwd7jcz"
      }
    },
    {
      "cell_type": "code",
      "source": [
        "from collections import Counter\n",
        "import re\n",
        "\n",
        "# Tokenize the text\n",
        "tokens = re.sub(r'[^a-zA-Z\\s]', '', article_text).lower().split()\n",
        "\n",
        "# Build the vocabulary\n",
        "vocab = sorted(Counter(tokens))\n",
        "vocab_size = len(vocab)\n",
        "\n",
        "# Create word to index and index to word mappings\n",
        "word_to_idx = {word: i for i, word in enumerate(vocab)}\n",
        "idx_to_word = {i: word for word, i in word_to_idx.items()}\n",
        "\n",
        "print(tokens[:20])"
      ],
      "metadata": {
        "colab": {
          "base_uri": "https://localhost:8080/"
        },
        "id": "7qPmWxL6aEhJ",
        "outputId": "8cedae6c-0170-431d-82eb-7d9f6cdc904a"
      },
      "execution_count": 5,
      "outputs": [
        {
          "output_type": "stream",
          "name": "stdout",
          "text": [
            "['machine', 'learning', 'ml', 'is', 'a', 'field', 'of', 'study', 'in', 'artificial', 'intelligence', 'concerned', 'with', 'the', 'development', 'and', 'study', 'of', 'statistical', 'algorithms']\n"
          ]
        }
      ]
    },
    {
      "cell_type": "markdown",
      "source": [
        "### Understanding & Implementing Word2Vec\n",
        "\n",
        "Before using our newly created dataset to generate training data, let's first walk through the core ideas behind the Word2Vec Skip-gram algorithm to gain a nuanced understanding of its implementation.\n",
        "\n",
        "Word2Vec leverages the context of words to capture their semantic meanings, with the most critical parameter being the window size. This parameter determines the number of context words considered around a target word, essentially defining the scope of context during training. For example, with a window size of 2, the context for a target word would include the two words preceding it and the two words after it. This local context helps the model learn the relationships and similarities between words based on their surrounding words. The below graphic from [Zafar Ali's Medium article](https://medium.com/@zafaralibagh6/a-simple-word2vec-tutorial-61e64e38a6a1) does a great job of providing an overview of this crucical concept.\n",
        "\n",
        "<img src=\"https://miro.medium.com/v2/resize:fit:536/1*vZhxrBkCz-yN_rzZBqSKiA.png\"/>\n",
        "\n",
        "As you might guess, the choice of window size significantly impacts the quality and nature of the word embeddings.\n",
        "\n",
        "* A smaller window size tends to capture more syntactic relationships, focusing on immediate neighbors and their roles in sentences. This is beneficial for tasks requiring an understanding of word dependencies and local structures.\n",
        "* A larger window size encompasses a broader context, capturing more semantic relationships by considering a wider range of surrounding words. This broader context is useful for tasks that require a deeper understanding of the overall meaning in which words appear.\n",
        "\n",
        "Balancing the window size is crucial: too small a window might miss out on essential context, while too large a window might introduce noise by including less relevant words. Thus, selecting an appropriate window size is key to optimizing Word2Vec for specific applications.\n",
        "\n",
        "So that will be our goal creating our training data - for every word in our corpus, we will try to generate up to 4 training samples based on a fixed window size of 2. For example, if we take the sentence:\n",
        "\n",
        "`Recently, artificial neural networks have been able to surpass many previous approaches in performance`\n",
        "\n",
        "The generated training samples for the word \"neural\" would be:\n",
        "\n",
        "* `(neural, Recently)`: 2 words before.\n",
        "* `(neural, artificial)`: 1 word before.\n",
        "* `(neural, networks)`: 1 word after.\n",
        "* `(neural, have)`: 2 words after.\n",
        "\n",
        "With this understanding in mind, let’s use the algorithm to generate our training data. If done correctly, we should see the above samples represented in the data. One important thing to note: we will use our previously created `word_to_idx` mapping to convert each word into its index position once we’ve defined each pairing, since neural networks require numerical inputs."
      ],
      "metadata": {
        "id": "9JdNu6PcIwhV"
      }
    },
    {
      "cell_type": "code",
      "source": [
        "def create_training_data(tokens, word_to_idx, window_size=2):\n",
        "    data = []\n",
        "    # Loop through each token\n",
        "    for i in range(window_size, len(tokens) - window_size):\n",
        "        center_word = tokens[i]\n",
        "        # Grab previous 'n' words up to the window size\n",
        "        prevWords = tokens[i - window_size : i]\n",
        "        # Grab next 'n' words up to the window size\n",
        "        nextWords = tokens[i + 1 : i + window_size + 1]\n",
        "        context_words = prevWords + nextWords\n",
        "        # For each context word, create mapping\n",
        "        for context_word in context_words:\n",
        "            data.append((word_to_idx[center_word], word_to_idx[context_word]))\n",
        "\n",
        "    return data\n",
        "\n",
        "# Init window size\n",
        "WINDOW_SIZE = 2\n",
        "\n",
        "# Create training data\n",
        "data = create_training_data(tokens, word_to_idx, WINDOW_SIZE)\n",
        "for pair in data[148:152]: print(idx_to_word[pair[0]], \"->\", idx_to_word[pair[1]])"
      ],
      "metadata": {
        "id": "-xBcJnMEuBG-",
        "colab": {
          "base_uri": "https://localhost:8080/"
        },
        "outputId": "efdd4719-9186-4b35-bb66-6d3600921b58"
      },
      "execution_count": 6,
      "outputs": [
        {
          "output_type": "stream",
          "name": "stdout",
          "text": [
            "neural -> recently\n",
            "neural -> artificial\n",
            "neural -> networks\n",
            "neural -> have\n"
          ]
        }
      ]
    },
    {
      "cell_type": "markdown",
      "source": [
        "So far so good! We can further valdiate that our `create_training_data` worked correctly by checking the math. Given that we 8,092 tokens in our corpus of text and 32,352 training items, we should expect to see 4 generated training samples for each token. We'll need to subtract 4 from the total number of tokens to account for omitting the first and last two tokens in the corpus, since we cannot generate a full 4 samples in those instances (there's no 2 words preceding the very first token and no 2 words following our very last token)."
      ],
      "metadata": {
        "id": "NMf1tOkxxZxj"
      }
    },
    {
      "cell_type": "code",
      "source": [
        "token_count = len(tokens)\n",
        "training_sample_count = len(data)\n",
        "samples_per_token = training_sample_count / (token_count - 4)\n",
        "\n",
        "print(f\"Token Count: {token_count}\")\n",
        "print(f\"Training Sample Count: {training_sample_count}\")\n",
        "print(f\"Training Samples per Token: {samples_per_token}\")"
      ],
      "metadata": {
        "colab": {
          "base_uri": "https://localhost:8080/"
        },
        "id": "r86sKWJqwZSS",
        "outputId": "50d67352-f8f7-4ddd-b2f4-6a2de969dc79"
      },
      "execution_count": 7,
      "outputs": [
        {
          "output_type": "stream",
          "name": "stdout",
          "text": [
            "Token Count: 8092\n",
            "Training Sample Count: 32352\n",
            "Training Samples per Token: 4.0\n"
          ]
        }
      ]
    },
    {
      "cell_type": "markdown",
      "source": [
        "The last step is to load our training data into PyTorch's `Dataset` and `DataLoader` modules, which combined provide helpful class utilities for shuffling, batching, and iterating through our data. The `DataLoader` class additionally converts our data into tensors, which is the required data structure for training neural networks."
      ],
      "metadata": {
        "id": "Y5SBk_iFbhES"
      }
    },
    {
      "cell_type": "code",
      "source": [
        "from torch.utils.data import Dataset, DataLoader\n",
        "\n",
        "class ArticleDataset(Dataset):\n",
        "    def __init__(self, data):\n",
        "        self.data = data\n",
        "\n",
        "    def __len__(self):\n",
        "        return len(self.data)\n",
        "\n",
        "    def __getitem__(self, idx):\n",
        "        return self.data[idx]\n",
        "\n",
        "BATCH_SIZE = 4\n",
        "dataset = ArticleDataset(data)\n",
        "dataloader = DataLoader(dataset, batch_size=BATCH_SIZE, shuffle=True)"
      ],
      "metadata": {
        "id": "YXwl-mDXccE4"
      },
      "execution_count": 8,
      "outputs": []
    },
    {
      "cell_type": "markdown",
      "source": [
        "Just to confirm everything is working correctly, let's quickly check the target to context word mappings for a single batch:"
      ],
      "metadata": {
        "id": "ymv3zCDhft-g"
      }
    },
    {
      "cell_type": "code",
      "source": [
        "center_words, context_words = next(iter(dataloader))\n",
        "\n",
        "for i in range(BATCH_SIZE):\n",
        "  center_word, context_word = center_words[i].item(), context_words[i].item()\n",
        "  print(idx_to_word[center_word], \"->\", idx_to_word[context_word])"
      ],
      "metadata": {
        "colab": {
          "base_uri": "https://localhost:8080/"
        },
        "id": "71-IW_u_f4zt",
        "outputId": "0bdf2e1c-62ec-47df-b25f-e8a2ac800a87"
      },
      "execution_count": 9,
      "outputs": [
        {
          "output_type": "stream",
          "name": "stdout",
          "text": [
            "addition -> performance\n",
            "applications -> for\n",
            "a -> supervisory\n",
            "quite -> are\n"
          ]
        }
      ]
    },
    {
      "cell_type": "markdown",
      "source": [
        "### The Embedding Layer\n",
        "\n",
        "Now that we’ve created a robust set of training data, it’s time to build our Word2Vec model. The overall architecture we’ll be using is relatively straightforward, as we’ll only need two types of PyTorch layers: nn.Embedding and nn.Linear. Before writing the model, let’s first walk through what each layer does to gain a more comprehensive understanding of the underlying processes. We’ll start with the `nn.Embedding` layer, as it is the first layer our training data will pass through during the forward propagation process.\n",
        "\n",
        "To begin, we'll initialize an `nn.Embedding` layer with its required inputs: `num_embeddings`, which dictates how many unique embeddings need to be generated (one for each word in our vocabulary), and the embedding_dim, which determines the size of each embedding."
      ],
      "metadata": {
        "id": "9bTQ8aQuBUlE"
      }
    },
    {
      "cell_type": "code",
      "source": [
        "from torch import nn\n",
        "\n",
        "# CONSTANTS\n",
        "EMBEDDING_SIZE = 10\n",
        "VOCAB_SIZE = len(vocab)\n",
        "\n",
        "# Create embedding layer initialezed with our vocab and target embedding size\n",
        "embedding_layer = nn.Embedding(num_embeddings=VOCAB_SIZE, embedding_dim=EMBEDDING_SIZE)\n",
        "\n",
        "embedding_layer"
      ],
      "metadata": {
        "colab": {
          "base_uri": "https://localhost:8080/"
        },
        "id": "5Rjl2DaRS3q0",
        "outputId": "6c0c3fe1-f8b5-4a25-a4c8-46b48856ae25"
      },
      "execution_count": 11,
      "outputs": [
        {
          "output_type": "execute_result",
          "data": {
            "text/plain": [
              "Embedding(2072, 10)"
            ]
          },
          "metadata": {},
          "execution_count": 11
        }
      ]
    },
    {
      "cell_type": "markdown",
      "source": [
        "Examing the shape of our embedding layer, we can see that we've initialized a tensor with 2072 vectors, each with 10 dimensions. Further, we can see that each of the dimensions for every vector has been ranomly assigned numerical weights, which will be tuned when we start training our model."
      ],
      "metadata": {
        "id": "diMnPoEKnuaZ"
      }
    },
    {
      "cell_type": "code",
      "source": [
        "for i in range(3):\n",
        "  vector = embedding_layer.weight[i]\n",
        "  print(f\"Embedding {i}: {vector}\")"
      ],
      "metadata": {
        "colab": {
          "base_uri": "https://localhost:8080/"
        },
        "id": "WsswjtJDoaHe",
        "outputId": "f993cc89-0bf4-4cb7-e8dd-ce07aebfaddd"
      },
      "execution_count": 12,
      "outputs": [
        {
          "output_type": "stream",
          "name": "stdout",
          "text": [
            "Embedding 0: tensor([-0.5645,  0.3908, -0.5953,  0.6326, -0.0043,  1.3916, -0.7059,  2.1851,\n",
            "        -0.2096, -0.1940], grad_fn=<SelectBackward0>)\n",
            "Embedding 1: tensor([ 0.3147, -0.6228, -2.0910, -0.1696, -0.4416,  0.7745,  1.0487,  0.1452,\n",
            "         0.9537,  0.5789], grad_fn=<SelectBackward0>)\n",
            "Embedding 2: tensor([-0.2448,  1.1885,  1.3821,  0.0485, -0.6761, -1.1789, -0.7896,  0.0950,\n",
            "         1.5438,  1.1849], grad_fn=<SelectBackward0>)\n"
          ]
        }
      ]
    },
    {
      "cell_type": "markdown",
      "source": [
        "In laymen's terms, what this means is that the embedding layer is essentially a massive lookup table for each unique word in our vocabulary, with each word having an index in the layer and represented by a vector of weights. When we pass in a tensor of word indicies to the embedding layer as an argument, the embedding layer simply returns the corresponding vector for each index. [PyTorch's offical documentation](https://pytorch.org/docs/stable/generated/torch.nn.Embedding.html) confirms this description:\n",
        "\n",
        "```\n",
        "A simple lookup table that stores embeddings of a fixed dictionary and size.\n",
        "\n",
        "This module is often used to store word embeddings and retrieve them using indices. The input to the module is a list of indices, and the output is the corresponding word embeddings.\n",
        "```\n",
        "\n",
        "But let's not take PyTorch's word for it. For validation, let's check this out using a single batch from our dataloader, and return the vector for each center word index in our embedding layer."
      ],
      "metadata": {
        "id": "qgRUjdBCpqun"
      }
    },
    {
      "cell_type": "code",
      "source": [
        "torch.manual_seed(42)\n",
        "\n",
        "# Get a single batch of word indexs\n",
        "sample_center_words, sample_context_words = next(iter(dataloader))\n",
        "\n",
        "# For each center word, lookup it's index in the embedding layer\n",
        "for word_index in sample_center_words:\n",
        "  print(f\"Word Index: {word_index.item()}\")\n",
        "  print(f\"Vector: {embedding_layer.weight[word_index.item()]}\")"
      ],
      "metadata": {
        "colab": {
          "base_uri": "https://localhost:8080/"
        },
        "id": "p6-aVoNNp0pY",
        "outputId": "9872fed2-73c0-4ca2-f706-b5a70888f242"
      },
      "execution_count": 13,
      "outputs": [
        {
          "output_type": "stream",
          "name": "stdout",
          "text": [
            "Word Index: 1882\n",
            "Vector: tensor([ 0.8063, -0.0200, -0.6046, -1.7470,  0.7258, -1.9405, -0.6428,  1.5113,\n",
            "         0.1958, -0.9417], grad_fn=<SelectBackward0>)\n",
            "Word Index: 392\n",
            "Vector: tensor([-1.2796,  0.0407, -1.3964, -1.4239, -0.8699, -1.6921,  0.6305, -0.9170,\n",
            "        -1.3376, -0.9535], grad_fn=<SelectBackward0>)\n",
            "Word Index: 446\n",
            "Vector: tensor([ 1.0075,  1.3089, -1.4465,  0.2294,  1.1204,  0.5663,  1.9597, -0.3894,\n",
            "        -0.3001,  0.1824], grad_fn=<SelectBackward0>)\n",
            "Word Index: 2002\n",
            "Vector: tensor([-0.6333, -0.2762,  1.1233, -0.5011, -0.1019, -2.3611,  0.3806, -1.6786,\n",
            "        -1.5883,  1.2122], grad_fn=<SelectBackward0>)\n"
          ]
        }
      ]
    },
    {
      "cell_type": "markdown",
      "source": [
        "And now, let's cross reference those results with what get's returned when we just pass in the tensor directly to the embedding layer:"
      ],
      "metadata": {
        "id": "9QpcUvA5v75z"
      }
    },
    {
      "cell_type": "code",
      "source": [
        "embeddings = embedding_layer(sample_center_words)\n",
        "embeddings"
      ],
      "metadata": {
        "colab": {
          "base_uri": "https://localhost:8080/"
        },
        "id": "TI8xDS0gqzE6",
        "outputId": "dd89868e-ea04-495d-c4d1-2ea1d96c0a26"
      },
      "execution_count": 14,
      "outputs": [
        {
          "output_type": "execute_result",
          "data": {
            "text/plain": [
              "tensor([[ 0.8063, -0.0200, -0.6046, -1.7470,  0.7258, -1.9405, -0.6428,  1.5113,\n",
              "          0.1958, -0.9417],\n",
              "        [-1.2796,  0.0407, -1.3964, -1.4239, -0.8699, -1.6921,  0.6305, -0.9170,\n",
              "         -1.3376, -0.9535],\n",
              "        [ 1.0075,  1.3089, -1.4465,  0.2294,  1.1204,  0.5663,  1.9597, -0.3894,\n",
              "         -0.3001,  0.1824],\n",
              "        [-0.6333, -0.2762,  1.1233, -0.5011, -0.1019, -2.3611,  0.3806, -1.6786,\n",
              "         -1.5883,  1.2122]], grad_fn=<EmbeddingBackward0>)"
            ]
          },
          "metadata": {},
          "execution_count": 14
        }
      ]
    },
    {
      "cell_type": "markdown",
      "source": [
        "Not too shabby! We're halfway there - let's move onto `nn.Linear` layer next."
      ],
      "metadata": {
        "id": "yDpKTI0ZyjSv"
      }
    },
    {
      "cell_type": "markdown",
      "source": [
        "### The Linear Layer\n",
        "\n",
        "The linear layer is where the magic really starts to happen within the Word2Vec model. It applies a linear transformation to our embeddings to produce logits (scores) indicating the model’s confidence or likelihood of each word being a context word given the target (center) word. In practice, we would then return the word with the highest probability score as the one with the most similar context to the provided target word.\n",
        "\n",
        "We can instantiate an `nn.Linear` layer by passing in two arguments: the size of the input features, which in this case is equal to the size of the embeddings produced by our embedding layer, and the size of the output features, which corresponds to the number of unique words in our vocabulary.\n",
        "\n",
        "Similar to our embedding layer, the linear layer should generate a tensor with 2072 vectors, each with 10 randomly assigned weights."
      ],
      "metadata": {
        "id": "KHcddVuIyBr_"
      }
    },
    {
      "cell_type": "code",
      "source": [
        "linear_layer = nn.Linear(in_features=EMBEDDING_SIZE, out_features=VOCAB_SIZE)\n",
        "\n",
        "linear_layer.weight.shape"
      ],
      "metadata": {
        "colab": {
          "base_uri": "https://localhost:8080/"
        },
        "id": "OZRtwssry45M",
        "outputId": "a8ca49ed-d5c8-4ba6-ca23-5efa358d7c6c"
      },
      "execution_count": 16,
      "outputs": [
        {
          "output_type": "execute_result",
          "data": {
            "text/plain": [
              "torch.Size([2072, 10])"
            ]
          },
          "metadata": {},
          "execution_count": 16
        }
      ]
    },
    {
      "cell_type": "markdown",
      "source": [
        "I’ve covered the math behind linear transformations on tensors in previous posts, but I’ll provide a brief overview here. Recall that the equation for a linear transformation is defined as follows:\n",
        "\n",
        "\n",
        "$y = W(x) + b$\n",
        "\n",
        "Where, in the context of Word2Vec:\n",
        "\n",
        "- $x$ is the input embedding vector (with a size equal to the embedding dimension).\n",
        "- $W$ is the weight matrix (with dimensions  $\\text{vocabulary size} \\times \\text{embedding dimension}$ ).\n",
        "- $b$ is the bias vector (with a length equal to the vocabulary size).\n",
        "- $y$ is the output vector e.g logits (with a length equal to the vocabulary size).\n",
        "\n",
        "Essentially, this equation boils down to performing a dot product multiplication between the weights of the linear layer and each embedding in the batch returned from the embedding layer, followed by adding a bias vector to the results.\n",
        "\n",
        "Let’s verify the math programmatically below by checking the shapes of the tensors as we progress through the transformations:\n"
      ],
      "metadata": {
        "id": "LxVI8PMT2wgR"
      }
    },
    {
      "cell_type": "code",
      "source": [
        "# Define X, b, and w\n",
        "x = embeddings\n",
        "W = linear_layer.weight.t()\n",
        "b = linear_layer.bias\n",
        "\n",
        "# Perform Linear Transformation\n",
        "Wx = torch.matmul(x, W)\n",
        "y = Wx + b\n",
        "\n",
        "# Print Shapes\n",
        "print(f\"Wx = W: ({W.shape}) * x({x.shape})\")\n",
        "print(f\"y = Wx: {Wx.shape} + b{b.shape}\")\n",
        "print(f\"y = {y.shape}\")"
      ],
      "metadata": {
        "colab": {
          "base_uri": "https://localhost:8080/"
        },
        "id": "0codhp9D2v6P",
        "outputId": "790e2540-63fe-4316-a7ee-4145063cea82"
      },
      "execution_count": 17,
      "outputs": [
        {
          "output_type": "stream",
          "name": "stdout",
          "text": [
            "Wx = W: (torch.Size([10, 2072])) * x(torch.Size([4, 10]))\n",
            "y = Wx: torch.Size([4, 2072]) + btorch.Size([2072])\n",
            "y = torch.Size([4, 2072])\n"
          ]
        }
      ]
    },
    {
      "cell_type": "markdown",
      "source": [
        "Perfect, this checks out! Now, let’s examine the first 10 logits of each output tensor and compare them to the results of passing the embeddings directly through the linear_layer function we defined earlier."
      ],
      "metadata": {
        "id": "VfoWtziwHK09"
      }
    },
    {
      "cell_type": "code",
      "source": [
        "logits = linear_layer(embeddings)\n",
        "\n",
        "print(y[0][:10])\n",
        "print(logits[0][:10])"
      ],
      "metadata": {
        "colab": {
          "base_uri": "https://localhost:8080/"
        },
        "id": "0QsRMU0w4Ct_",
        "outputId": "68ea1da4-0236-4c44-a75a-5b432f55fd10"
      },
      "execution_count": 18,
      "outputs": [
        {
          "output_type": "stream",
          "name": "stdout",
          "text": [
            "tensor([ 0.3426, -0.6318,  0.4095, -0.8184,  0.5423,  0.8332, -0.0304,  0.4351,\n",
            "         0.1798,  0.0202], grad_fn=<SliceBackward0>)\n",
            "tensor([ 0.3426, -0.6318,  0.4095, -0.8184,  0.5423,  0.8332, -0.0304,  0.4351,\n",
            "         0.1798,  0.0202], grad_fn=<SliceBackward0>)\n"
          ]
        }
      ]
    },
    {
      "cell_type": "markdown",
      "source": [
        "Nice, we got a one to one match! As a final step, let's convert the logits into probability scores using a softmax function to predict the top 3 context words for each target word, and see what gets returned just for fun:"
      ],
      "metadata": {
        "id": "DCC96uo5I3Us"
      }
    },
    {
      "cell_type": "code",
      "source": [
        "import torch.nn.functional as F\n",
        "\n",
        "# How many context words to return for the given target word\n",
        "k = 3\n",
        "\n",
        "# Apply softmax to get probabilities\n",
        "probabilities = F.softmax(logits, dim=1)\n",
        "\n",
        "for i in range(len(probabilities)):\n",
        "  top_k_probs, top_k_indices = torch.topk(probabilities[i], k)\n",
        "  # Convert indices to words, filtering out the input word\n",
        "  predicted_words = []\n",
        "\n",
        "  for idx in top_k_indices:\n",
        "      predicted_word = idx_to_word[idx.item()]\n",
        "      predicted_words.append(predicted_word)\n",
        "\n",
        "  print(f\"Target Word '{idx_to_word[context_words[i].item()]}', Top 3 Predicted Next Words: {predicted_words} \")"
      ],
      "metadata": {
        "colab": {
          "base_uri": "https://localhost:8080/"
        },
        "id": "1GkKdLxz5VbK",
        "outputId": "4317db23-abc6-4f17-b95c-0d94c722934e"
      },
      "execution_count": 21,
      "outputs": [
        {
          "output_type": "stream",
          "name": "stdout",
          "text": [
            "Target Word 'performance', Top 3 Predicted Next Words: ['unzip', 'substantial', 'possible'] \n",
            "Target Word 'for', Top 3 Predicted Next Words: ['synapses', 'animal', 'inference'] \n",
            "Target Word 'supervisory', Top 3 Predicted Next Words: ['digitizing', 'emotion', 'killed'] \n",
            "Target Word 'are', Top 3 Predicted Next Words: ['basis', 'lzw', 'offers'] \n"
          ]
        }
      ]
    },
    {
      "cell_type": "markdown",
      "source": [
        "Well, I guess some of these might make sense? But for the most part they seem pretty random, which is what we should expect given we haven't performed any training yet. Nonetheless, this is still pretty cool in my opinion, and provides a vision of the value our Word2Vec model could provide once it's better learned and instilled the semantic meanings of each word into it's embedding vectors."
      ],
      "metadata": {
        "id": "iqh4HD4zL7HK"
      }
    },
    {
      "cell_type": "markdown",
      "source": [
        "### Defining a Word2Vec Model and Setting up a Training Function\n",
        "\n",
        "With that, it's time to finally put everything we've learned so far together! Let's begin by defining our Word2Vec model. As mentioned before, the architecture is relatively straightforward and only consists of the `nn.Embedding` and `nn.Linear` layers that we just covered."
      ],
      "metadata": {
        "id": "Oaat1gaewSPc"
      }
    },
    {
      "cell_type": "code",
      "source": [
        "class Word2Vec(nn.Module):\n",
        "    def __init__(self, vocab_size, embedding_size):\n",
        "        super(Word2Vec, self).__init__()\n",
        "        self.embeddings = nn.Embedding(num_embeddings=vocab_size, embedding_dim=embedding_size)\n",
        "        self.linear = nn.Linear(embedding_size, vocab_size)\n",
        "\n",
        "    def forward(self, inputs):\n",
        "        return self.linear(self.embeddings(inputs))\n",
        "\n",
        "VOCAB_SIZE = len(vocab)\n",
        "EMBEDDING_SIZE = 10\n",
        "\n",
        "model = Word2Vec(vocab_size=VOCAB_SIZE, embedding_size=EMBEDDING_SIZE)"
      ],
      "metadata": {
        "id": "nsEiwBkCwPnx"
      },
      "execution_count": 23,
      "outputs": []
    },
    {
      "cell_type": "markdown",
      "source": [
        "As a quick aside, in the forward method (which is a mandatory `nn.Module` class method), I've decided to directly invoke the layers in a single line, which offers slight computational speedups due to reducing the number of lines of code. However, this comes at the drawback of leaving the code harder to debug, less flexible to changes, and less readible overall.\n",
        "\n",
        "For smaller, more simple models like Word2Vec, this implementation works fine, but with larger models it is more likely to see the outputs of each layer seperated out for modularity. For instance, we could re-write our `forward` method like so if we wanted to change to the multi-line approach:"
      ],
      "metadata": {
        "id": "enbL0VNyPnwi"
      }
    },
    {
      "cell_type": "code",
      "source": [
        "def forward(self, inputs):\n",
        "    embeddings = self.embeddings(inputs)\n",
        "    logits = self.linear(embeddings)\n",
        "    return logits"
      ],
      "metadata": {
        "id": "vFfila6RRiaQ"
      },
      "execution_count": 24,
      "outputs": []
    },
    {
      "cell_type": "markdown",
      "source": [
        "Next, we need to define our training function, which is reponsible for adjusting the weights of our model over time. The training of the Word2Vec model is no different than most neural networks, following the below five core steps:\n",
        "\n",
        "1. **Forward Pass**: We pass our batch of target word index tensors through our model to produce a tensor of probability logits for potential context words.\n",
        "2. **Calculate the Loss**: We evaluate the performance of our model by measuring the loss of our model's outputs against our labels (e.g actual context words) using the cross-entropy loss function.\n",
        "3. **Backpropogation**: We then calculate the gradient of the loss with respect to every model parameter to be updated in reverse layer order, starting with the linear layer. This step is crucial for understanding how changes in each parameter affect the overall loss.\n",
        "4. **Update the Optimizer**: The model updates parameters that have requires_grad=True based on the loss gradients to optimize them via gradient descent. We didn’t explicitly set requires_grad=True for any of our layers because this is PyTorch’s default behavior for layer parameters\n",
        "5. **Zero the Gradients**: We reset the current optimizer's gradients to zero (they are accumulated by default) so they can be recalculated in the next training step.\n",
        "\n",
        "Additionally, we’ll add code to track the total loss over time, allowing us to measure our model’s learning progress. As a reminder, the loss represents the numerical difference between the model’s outputs and the actual targets for each training epoch. The closer the loss is to zero, the better the model has learned the patterns in the training data, leading to more accurate predictions."
      ],
      "metadata": {
        "id": "bKwcoFr-RyxG"
      }
    },
    {
      "cell_type": "code",
      "source": [
        "def train(model, data, epochs, loss_fn, optimizer, batch_size):\n",
        "    loss_history = []\n",
        "    for epoch in tqdm(range(epochs)):\n",
        "        total_loss = 0\n",
        "\n",
        "        for target_word, context_word in dataloader:\n",
        "          # 1. Forward Pass\n",
        "          logits = model(target_word)\n",
        "          # 2. Calculate the Loss\n",
        "          loss = loss_fn(logits, context_word)\n",
        "          total_loss += loss.item()\n",
        "          # 3. Backpropogation\n",
        "          loss.backward()\n",
        "          # 4. Perform Gradient Descent to update the weights\n",
        "          optimizer.step()\n",
        "          # 5. Zero out gradients\n",
        "          optimizer.zero_grad()\n",
        "\n",
        "        # Append total loss to loss history\n",
        "        loss_history.append(total_loss)\n",
        "\n",
        "    return model, loss_history"
      ],
      "metadata": {
        "id": "-Tey_ubV7kjs"
      },
      "execution_count": 32,
      "outputs": []
    },
    {
      "cell_type": "markdown",
      "source": [
        "### Putting it all together\n",
        "\n",
        "We’ve arrived at the moment of truth! Let’s combine all the individual components from this post into a single code block and train our Word2Vec model.\n",
        "\n",
        "A couple of quick notes before running this code:\n",
        "\n",
        "* We’ll start with a BATCH_SIZE of 256 to speed up the training of our model and give it more capacity to learn from the data.\n",
        "* Although we are using Adam as our optimizer, Word2Vec was [originally trained by Google](https://arxiv.org/pdf/1301.3781) using a variation of Mini-Batch Stochastic Gradient Descent (SGD) called Adagrad. Adam incorporates the core principles of Adagrad with some additional improvements.\n",
        "* For now, we are using static hyperparameters, but we could test different combinations via grid search to determine which configurations yield the best model results.\n",
        "\n"
      ],
      "metadata": {
        "id": "r0TXidQAUcWJ"
      }
    },
    {
      "cell_type": "code",
      "source": [
        "# Contants\n",
        "LEARNING_RATE = 0.01\n",
        "EPOCHS = 100\n",
        "WINDOW_SIZE = 2\n",
        "EMBEDDING_SIZE = 10\n",
        "BATCH_SIZE = 256\n",
        "\n",
        "# Tokenize the text\n",
        "tokens = re.sub(r'[^a-zA-Z\\s]', '', article_text).lower().split()\n",
        "\n",
        "# Build the vocabulary\n",
        "vocab = sorted(Counter(tokens))\n",
        "vocab_size = len(vocab)\n",
        "\n",
        "# Create word to index and index to word mappings\n",
        "word_to_idx = {word: i for i, word in enumerate(vocab)}\n",
        "idx_to_word = {i: word for word, i in word_to_idx.items()}\n",
        "\n",
        "# Convert book into dataset\n",
        "dataset = ArticleDataset(data)\n",
        "dataloader = DataLoader(dataset, batch_size=BATCH_SIZE, shuffle=True)\n",
        "\n",
        "# Create the training data\n",
        "data = create_training_data(tokens, word_to_idx, WINDOW_SIZE)\n",
        "\n",
        "# Init Model\n",
        "model = Word2Vec(vocab_size=vocab_size, embedding_size=EMBEDDING_SIZE)\n",
        "\n",
        "# Set Loss Function and Optimizer\n",
        "loss_fn = torch.nn.CrossEntropyLoss()\n",
        "optimizer = torch.optim.Adam(model.parameters(), lr=LEARNING_RATE)\n",
        "\n",
        "# Train the model\n",
        "model, loss_history = train(model=model,\n",
        "                       data=dataloader,\n",
        "                       epochs=EPOCHS,\n",
        "                       loss_fn=loss_fn,\n",
        "                       optimizer=optimizer,\n",
        "                       batch_size=BATCH_SIZE)"
      ],
      "metadata": {
        "colab": {
          "base_uri": "https://localhost:8080/"
        },
        "id": "pnWoW9OT7n4T",
        "outputId": "e699c895-411b-4064-8a42-19dd03f52c57"
      },
      "execution_count": 33,
      "outputs": [
        {
          "output_type": "stream",
          "name": "stderr",
          "text": [
            "100%|██████████| 100/100 [00:35<00:00,  2.85it/s]\n"
          ]
        }
      ]
    },
    {
      "cell_type": "markdown",
      "source": [
        "We can analyze how well Word2Vec learned our dataset by looking at the loss history over time."
      ],
      "metadata": {
        "id": "J1x1tGwufsiD"
      }
    },
    {
      "cell_type": "code",
      "source": [
        "# Figure out how many epochs there were\n",
        "epochs = range(len(loss_history))\n",
        "\n",
        "# Setup a plot\n",
        "plt.figure(figsize=(15, 7))\n",
        "plt.style.use(\"seaborn\")\n",
        "\n",
        "# Plot loss\n",
        "plt.subplot(1, 2, 1)\n",
        "plt.plot(epochs, loss_history, label='Loss History')\n",
        "plt.title('Loss History')\n",
        "plt.xlabel('Epochs')\n",
        "plt.ylabel('Loss')\n",
        "plt.legend()"
      ],
      "metadata": {
        "colab": {
          "base_uri": "https://localhost:8080/",
          "height": 713
        },
        "id": "aqnF3Y0Z3Lwo",
        "outputId": "ab4cdc7a-3ec8-45c7-c691-b5672e21b36c"
      },
      "execution_count": 35,
      "outputs": [
        {
          "output_type": "stream",
          "name": "stderr",
          "text": [
            "<ipython-input-35-4d711f2c0590>:6: MatplotlibDeprecationWarning: The seaborn styles shipped by Matplotlib are deprecated since 3.6, as they no longer correspond to the styles shipped by seaborn. However, they will remain available as 'seaborn-v0_8-<style>'. Alternatively, directly use the seaborn API instead.\n",
            "  plt.style.use(\"seaborn\")\n"
          ]
        },
        {
          "output_type": "execute_result",
          "data": {
            "text/plain": [
              "<matplotlib.legend.Legend at 0x7a7230fa3df0>"
            ]
          },
          "metadata": {},
          "execution_count": 35
        },
        {
          "output_type": "display_data",
          "data": {
            "text/plain": [
              "<Figure size 1500x700 with 1 Axes>"
            ],
            "image/png": "[encoded data removed]"
          },
          "metadata": {}
        }
      ]
    },
    {
      "cell_type": "markdown",
      "source": [
        "Our loss history suggests that our model was able to successfully learn and generalize from our text corpus, as we can observe a sharp decrease in total loss with each successive epoch up until about the 40th epoch. It's possible that we could have further reduced the loss by playing around with some of our hyperparameters, but for now, this initial training instance seems promoising.\n",
        "\n",
        "However, a better gauge of whether we were successful in our pursuit might be to actually plug in a few target word and see what context words get returned. Let's try it out by inputting the word \"neural\" into our Word2Vec model."
      ],
      "metadata": {
        "id": "u-fCoJK89bi4"
      }
    },
    {
      "cell_type": "code",
      "source": [
        "import torch.nn.functional as F\n",
        "\n",
        "def predict_next_word(model, word, word_to_idx, idx_to_word, top_k=5):\n",
        "  model.eval()\n",
        "  # Convert the word to its corresponding index\n",
        "  word_idx = torch.tensor([word_to_idx[word]], dtype=torch.long)\n",
        "\n",
        "  # Forward pass through the model\n",
        "  with torch.no_grad():\n",
        "      output = model(word_idx)\n",
        "\n",
        "  # Apply softmax to get probabilities\n",
        "  probabilities = F.softmax(output, dim=1)\n",
        "\n",
        "  # Get the top k predictions\n",
        "  top_k_probs, top_k_indices = torch.topk(probabilities, top_k + 1)  # Get top k + 1 to ensure we can omit the input word\n",
        "\n",
        "  # Convert indices to words, filtering out the input word\n",
        "  context_words = []\n",
        "  for idx in top_k_indices[0]:\n",
        "      predicted_word = idx_to_word[idx.item()]\n",
        "      if predicted_word != word:\n",
        "          context_words.append(predicted_word)\n",
        "      if len(context_words) == top_k:\n",
        "          break\n",
        "\n",
        "  return context_words\n",
        "\n",
        "# Predict the next word for a given input word\n",
        "input_word = 'neural'\n",
        "predicted_words = predict_next_word(model, input_word, word_to_idx, idx_to_word, top_k=3)\n",
        "print(f\"Words most similar to '{input_word}': {predicted_words}\")"
      ],
      "metadata": {
        "colab": {
          "base_uri": "https://localhost:8080/"
        },
        "id": "twScUiJjfilC",
        "outputId": "c785feac-ffaf-4d5f-ca3b-0d11c70cff39"
      },
      "execution_count": 38,
      "outputs": [
        {
          "output_type": "stream",
          "name": "stdout",
          "text": [
            "Words most similar to 'neural': ['a', 'networks', 'artificial']\n"
          ]
        }
      ]
    },
    {
      "cell_type": "markdown",
      "source": [
        "This is pretty good! The words \"networks\" and \"artificial\" definitely seem like they would be heavily associated with \"neural\". I would say this passes the eye test, and validates what the loss curve inferred to us."
      ],
      "metadata": {
        "id": "uoGpnGiQj4eE"
      }
    },
    {
      "cell_type": "markdown",
      "source": [
        "### Conclusion"
      ],
      "metadata": {
        "id": "mt4sWxkwul7E"
      }
    },
    {
      "cell_type": "markdown",
      "source": [
        "While this was a relatively simple implementation of the Word2Vec model, I hope you gained a better appreciation for the value of word embeddings—I know I certainly did. Although Word2Vec may be somewhat outdated compared to state-of-the-art architectures like transformers, the core principles remain relevant. The idea that we can capture the semantic meaning of a word by leveraging the surrounding words for context, and then embed those relationships into a vector space, is fundamental to many modern NLP techniques. Impressively, the underlying math is not overly complex—as we saw, these mappings can be generated using basic linear algebra and calculus. In my opinion, this simplicity makes the architecture even more remarkable.\n",
        "\n",
        "Thanks for taking the time to read this, and hopefully you were able to learn something new. I'll see you next time."
      ],
      "metadata": {
        "id": "9V4KgykokufJ"
      }
    },
    {
      "cell_type": "code",
      "source": [],
      "metadata": {
        "id": "KvIooME1n7jE"
      },
      "execution_count": null,
      "outputs": []
    }
  ]
}