{
  "nbformat": 4,
  "nbformat_minor": 0,
  "metadata": {
    "colab": {
      "provenance": [],
      "authorship_tag": "ABX9TyPuabM1R45SXrdaTPQTiJcW",
      "include_colab_link": true
    },
    "kernelspec": {
      "name": "python3",
      "display_name": "Python 3"
    },
    "language_info": {
      "name": "python"
    }
  },
  "cells": [
    {
      "cell_type": "markdown",
      "metadata": {
        "id": "view-in-github",
        "colab_type": "text"
      },
      "source": [
        "<a href=\"https://colab.research.google.com/github/zmess24/personal-website-nextjs/blob/main/vector_dbs_and_cosine_similarity_search.ipynb\" target=\"_parent\"><img src=\"https://colab.research.google.com/assets/colab-badge.svg\" alt=\"Open In Colab\"/></a>"
      ]
    },
    {
      "cell_type": "markdown",
      "source": [
        "Welcome back, everyone! Today's topic will hopefully be a fun one, as we will be venturing deeper into the world of Natural Language Processing (NLP) by exploring an exciting topic at the heart of most generative AI applications - vector databases! Vector databases, though not a novel technology, have gained immense popularity over the last few years as a key component of Retrieval Augmented Generation (RAG) - a technique that's revolutionized how we address the challenges of hallucinations and inaccuracies in Large Language Models (LLMs). If you're reading this, my guess is that you have most likely heard of these terms before.\n",
        "\n",
        "The goal for today's post will be to create a naive implemententation of a vector database from scratch, while incorporating some key features and functionality from a performance perspective. And at the end, we'll go through an example of how to use our \"scratch\" vector database to perform a similarity search on a list of recipes provided a given query.\n",
        "\n",
        "Withour further adu, let's get right into it!"
      ],
      "metadata": {
        "id": "t11l-NmNDFIy"
      }
    },
    {
      "cell_type": "markdown",
      "source": [
        "### What is a Vector Database?\n",
        "\n",
        "In my [previous post](https://www.zacmessinger.com/posts/intro-to-word-embeddings-with-word2vec), we delved into a crucial aspect of modern natural language processing by examining word embeddings, which are dense vectors of floating-point values that can be used to capture context and semantic relationships of words, and by extension, sentences. Embeddings are a undoubtly a powerful tool, but, thats all they are - a tool. The real value comes in how we use them in the context of more powerful models and applications, which is where vector databases come into play!\n",
        "\n",
        "A vector database is a specialized type of database designed to store and manage high-dimensional vectors. Unlike traditional databases that handle structured data, such as numbers and strings, a vector database has the ability to handle complex datatypes like text and images by storing them in vector space as embeddings. The core advantage of a vector database lies in its ability to perform rapid and scalable similarity searches across vast datasets, which is crucial for applications such as recommendation systems, image and video retrieval, and more.\n",
        "\n",
        "With an understanding of what a vector database is and what it is used for, let's move into the code centric portion of this post!"
      ],
      "metadata": {
        "id": "r0njQ4XVgSo4"
      }
    },
    {
      "cell_type": "markdown",
      "source": [
        "### Library Import"
      ],
      "metadata": {
        "id": "QKKM891cXisI"
      }
    },
    {
      "cell_type": "markdown",
      "source": [
        "Let's kick everything off by downloading & importing in the libraries we'll use throughout the remainder of this post. There are two new NLP specific libraries here today, so I've included a short description of what they do for reference as we progress through the sections to come.\n",
        "\n",
        "*   [SentenceTransformer](https://www.sbert.net/): A Python module for accessing, using, and training state-of-the-art text and image embedding models that is maintained by HuggingFace.\n",
        "*   [nltk](https://www.nltk.org/): nltk (aka Natural Language Toolkit) is a popular API that provides a suite of text processing libraries for classification, tokenization, stemming, tagging, parsing, and semantic reasoning.\n",
        "\n"
      ],
      "metadata": {
        "id": "Ic-HaZGeKbL6"
      }
    },
    {
      "cell_type": "code",
      "source": [
        "# Path & Serialization Libraries\n",
        "import os\n",
        "import requests\n",
        "\n",
        "# Data & Visualization Libraries\n",
        "import numpy as np\n",
        "import pandas as pd\n",
        "import json\n",
        "import  matplotlib.pyplot as plt\n",
        "\n",
        "# Text Preprocessing\n",
        "import nltk\n",
        "import re\n",
        "import string\n",
        "\n",
        "# Embedding Model\n",
        "try:\n",
        "  from sentence_transformers import SentenceTransformer\n",
        "except:\n",
        "  !pip install sentence-transformers -q\n",
        "  from sentence_transformers import SentenceTransformer"
      ],
      "metadata": {
        "id": "ie7QhiwpKq0s",
        "colab": {
          "base_uri": "https://localhost:8080/"
        },
        "outputId": "95af0836-157c-45c4-c77f-b703b1e0fd70"
      },
      "execution_count": 1,
      "outputs": [
        {
          "output_type": "stream",
          "name": "stdout",
          "text": [
            "\u001b[2K     \u001b[90m━━━━━━━━━━━━━━━━━━━━━━━━━━━━━━━━━━━━━━━━\u001b[0m \u001b[32m227.1/227.1 kB\u001b[0m \u001b[31m2.2 MB/s\u001b[0m eta \u001b[36m0:00:00\u001b[0m\n",
            "\u001b[2K     \u001b[90m━━━━━━━━━━━━━━━━━━━━━━━━━━━━━━━━━━━━━━━━\u001b[0m \u001b[32m21.3/21.3 MB\u001b[0m \u001b[31m61.7 MB/s\u001b[0m eta \u001b[36m0:00:00\u001b[0m\n",
            "\u001b[?25h"
          ]
        },
        {
          "output_type": "stream",
          "name": "stderr",
          "text": [
            "/usr/local/lib/python3.10/dist-packages/sentence_transformers/cross_encoder/CrossEncoder.py:11: TqdmExperimentalWarning: Using `tqdm.autonotebook.tqdm` in notebook mode. Use `tqdm.tqdm` instead to force console mode (e.g. in jupyter console)\n",
            "  from tqdm.autonotebook import tqdm, trange\n"
          ]
        }
      ]
    },
    {
      "cell_type": "markdown",
      "source": [
        "### Downloading a Dataset\n",
        "\n",
        "There's not much work to be done without a robust dataset to fuel our project (or in this case our vector database), so let's import one. Given the goal we're working towards is to leverage a vector database to run searches on food recipes most similar to user provided queries, this obviously means we'll need a dataset of recipes to work with. Luckily for us, I've gone ahead and curated a dataset of roughly ~1900 recipes by scraping www.bodybuilding.com.\n",
        "\n",
        "We don't need to do anything fancy here - we'll simply fetch the dataset URL from Github, download the file text, and convert it to JSON before storing the output in a pandas dataframe."
      ],
      "metadata": {
        "id": "AT6G_Yh4CDAa"
      }
    },
    {
      "cell_type": "code",
      "source": [
        "# URL of our JSON file\n",
        "url = \"https://github.com/zmess24/AI_Resources/raw/main/datasets/recipes.json\"\n",
        "\n",
        "# Fetch the url file and convert the text in the file to JSON\n",
        "response = requests.get(url)\n",
        "data = json.loads(response.text)\n",
        "\n",
        "# Create a dataframe from the JSON data\n",
        "df = pd.DataFrame(data)\n",
        "df.head()"
      ],
      "metadata": {
        "id": "wkckaT8mIZ7g",
        "colab": {
          "base_uri": "https://localhost:8080/",
          "height": 414
        },
        "outputId": "9854d71f-4bf3-423c-f2be-5b26aa85c347"
      },
      "execution_count": null,
      "outputs": [
        {
          "output_type": "execute_result",
          "data": {
            "text/plain": [
              "                                               title               author  \\\n",
              "0                    Beef Teriyaki Rice and Stir Fry  Contributing Writer   \n",
              "1                 Chicken Teriyaki Rice and Broccoli  Contributing Writer   \n",
              "2            Braised Pork with Soy Rice and Coleslaw  Contributing Writer   \n",
              "3  Buffalo Chicken Thigh, Mashed Potatoes, and As...  Contributing Writer   \n",
              "4    Pollo Asado, Corn Salsa, and Cilantro Lime Rice  Contributing Writer   \n",
              "\n",
              "                                         description  calories  carbs  \\\n",
              "0  Our highest-quality Hawaiian teriyaki beef is ...       352     38   \n",
              "1  Our Hawaiian teriyaki chicken is tender glazed...       391     43   \n",
              "2  Our slow-cooked pork shoulder encompasses the ...       529     43   \n",
              "3  The freshest ingredients, including garlic, cu...       266     17   \n",
              "4  Our pollo asado is marinated in the best flavo...       427     45   \n",
              "\n",
              "   proteins  fats                                        ingrediants  \\\n",
              "0        40     5  [1 serving Hawaiian teriyaki beef, ½ cup brown...   \n",
              "1        34     9  [1 serving Hawaiian Teriyaki Chicken, 1 servin...   \n",
              "2        33    25  [1 serving kalua pork, 1 serving kalua marinad...   \n",
              "3        40     4  [1 serving Buffalo chicken, 1 serving Buffalo ...   \n",
              "4        36    12  [1 serving pollo Asado, 1 serving asado Marina...   \n",
              "\n",
              "                                          directions  \\\n",
              "0  [Prepare rice to your specifications., Chop br...   \n",
              "1  [Prepare rice to your specifications., Chop br...   \n",
              "2  [Prepare rice to your specifications and add s...   \n",
              "3  [Prepare potatoes and boil until soft and mash...   \n",
              "4  [Prepare rice to your specifications., Add lim...   \n",
              "\n",
              "                                          image_link  \n",
              "0  https://www.bodybuilding.com/images/2023/octob...  \n",
              "1  https://www.bodybuilding.com/images/2023/octob...  \n",
              "2  https://www.bodybuilding.com/images/2023/octob...  \n",
              "3  https://www.bodybuilding.com/images/2023/octob...  \n",
              "4  https://www.bodybuilding.com/images/2023/octob...  "
            ],
            "text/html": [
              "\n",
              "  <div id=\"df-a1271bd0-0f74-48d5-b9b7-ae3fe6c4fb67\" class=\"colab-df-container\">\n",
              "    <div>\n",
              "<style scoped>\n",
              "    .dataframe tbody tr th:only-of-type {\n",
              "        vertical-align: middle;\n",
              "    }\n",
              "\n",
              "    .dataframe tbody tr th {\n",
              "        vertical-align: top;\n",
              "    }\n",
              "\n",
              "    .dataframe thead th {\n",
              "        text-align: right;\n",
              "    }\n",
              "</style>\n",
              "<table border=\"1\" class=\"dataframe\">\n",
              "  <thead>\n",
              "    <tr style=\"text-align: right;\">\n",
              "      <th></th>\n",
              "      <th>title</th>\n",
              "      <th>author</th>\n",
              "      <th>description</th>\n",
              "      <th>calories</th>\n",
              "      <th>carbs</th>\n",
              "      <th>proteins</th>\n",
              "      <th>fats</th>\n",
              "      <th>ingrediants</th>\n",
              "      <th>directions</th>\n",
              "      <th>image_link</th>\n",
              "    </tr>\n",
              "  </thead>\n",
              "  <tbody>\n",
              "    <tr>\n",
              "      <th>0</th>\n",
              "      <td>Beef Teriyaki Rice and Stir Fry</td>\n",
              "      <td>Contributing Writer</td>\n",
              "      <td>Our highest-quality Hawaiian teriyaki beef is ...</td>\n",
              "      <td>352</td>\n",
              "      <td>38</td>\n",
              "      <td>40</td>\n",
              "      <td>5</td>\n",
              "      <td>[1 serving Hawaiian teriyaki beef, ½ cup brown...</td>\n",
              "      <td>[Prepare rice to your specifications., Chop br...</td>\n",
              "      <td>https://www.bodybuilding.com/images/2023/octob...</td>\n",
              "    </tr>\n",
              "    <tr>\n",
              "      <th>1</th>\n",
              "      <td>Chicken Teriyaki Rice and Broccoli</td>\n",
              "      <td>Contributing Writer</td>\n",
              "      <td>Our Hawaiian teriyaki chicken is tender glazed...</td>\n",
              "      <td>391</td>\n",
              "      <td>43</td>\n",
              "      <td>34</td>\n",
              "      <td>9</td>\n",
              "      <td>[1 serving Hawaiian Teriyaki Chicken, 1 servin...</td>\n",
              "      <td>[Prepare rice to your specifications., Chop br...</td>\n",
              "      <td>https://www.bodybuilding.com/images/2023/octob...</td>\n",
              "    </tr>\n",
              "    <tr>\n",
              "      <th>2</th>\n",
              "      <td>Braised Pork with Soy Rice and Coleslaw</td>\n",
              "      <td>Contributing Writer</td>\n",
              "      <td>Our slow-cooked pork shoulder encompasses the ...</td>\n",
              "      <td>529</td>\n",
              "      <td>43</td>\n",
              "      <td>33</td>\n",
              "      <td>25</td>\n",
              "      <td>[1 serving kalua pork, 1 serving kalua marinad...</td>\n",
              "      <td>[Prepare rice to your specifications and add s...</td>\n",
              "      <td>https://www.bodybuilding.com/images/2023/octob...</td>\n",
              "    </tr>\n",
              "    <tr>\n",
              "      <th>3</th>\n",
              "      <td>Buffalo Chicken Thigh, Mashed Potatoes, and As...</td>\n",
              "      <td>Contributing Writer</td>\n",
              "      <td>The freshest ingredients, including garlic, cu...</td>\n",
              "      <td>266</td>\n",
              "      <td>17</td>\n",
              "      <td>40</td>\n",
              "      <td>4</td>\n",
              "      <td>[1 serving Buffalo chicken, 1 serving Buffalo ...</td>\n",
              "      <td>[Prepare potatoes and boil until soft and mash...</td>\n",
              "      <td>https://www.bodybuilding.com/images/2023/octob...</td>\n",
              "    </tr>\n",
              "    <tr>\n",
              "      <th>4</th>\n",
              "      <td>Pollo Asado, Corn Salsa, and Cilantro Lime Rice</td>\n",
              "      <td>Contributing Writer</td>\n",
              "      <td>Our pollo asado is marinated in the best flavo...</td>\n",
              "      <td>427</td>\n",
              "      <td>45</td>\n",
              "      <td>36</td>\n",
              "      <td>12</td>\n",
              "      <td>[1 serving pollo Asado, 1 serving asado Marina...</td>\n",
              "      <td>[Prepare rice to your specifications., Add lim...</td>\n",
              "      <td>https://www.bodybuilding.com/images/2023/octob...</td>\n",
              "    </tr>\n",
              "  </tbody>\n",
              "</table>\n",
              "</div>\n",
              "    <div class=\"colab-df-buttons\">\n",
              "\n",
              "  <div class=\"colab-df-container\">\n",
              "    <button class=\"colab-df-convert\" onclick=\"convertToInteractive('df-a1271bd0-0f74-48d5-b9b7-ae3fe6c4fb67')\"\n",
              "            title=\"Convert this dataframe to an interactive table.\"\n",
              "            style=\"display:none;\">\n",
              "\n",
              "  <svg xmlns=\"http://www.w3.org/2000/svg\" height=\"24px\" viewBox=\"0 -960 960 960\">\n",
              "    <path d=\"M120-120v-720h720v720H120Zm60-500h600v-160H180v160Zm220 220h160v-160H400v160Zm0 220h160v-160H400v160ZM180-400h160v-160H180v160Zm440 0h160v-160H620v160ZM180-180h160v-160H180v160Zm440 0h160v-160H620v160Z\"/>\n",
              "  </svg>\n",
              "    </button>\n",
              "\n",
              "  <style>\n",
              "    .colab-df-container {\n",
              "      display:flex;\n",
              "      gap: 12px;\n",
              "    }\n",
              "\n",
              "    .colab-df-convert {\n",
              "      background-color: #E8F0FE;\n",
              "      border: none;\n",
              "      border-radius: 50%;\n",
              "      cursor: pointer;\n",
              "      display: none;\n",
              "      fill: #1967D2;\n",
              "      height: 32px;\n",
              "      padding: 0 0 0 0;\n",
              "      width: 32px;\n",
              "    }\n",
              "\n",
              "    .colab-df-convert:hover {\n",
              "      background-color: #E2EBFA;\n",
              "      box-shadow: 0px 1px 2px rgba(60, 64, 67, 0.3), 0px 1px 3px 1px rgba(60, 64, 67, 0.15);\n",
              "      fill: #174EA6;\n",
              "    }\n",
              "\n",
              "    .colab-df-buttons div {\n",
              "      margin-bottom: 4px;\n",
              "    }\n",
              "\n",
              "    [theme=dark] .colab-df-convert {\n",
              "      background-color: #3B4455;\n",
              "      fill: #D2E3FC;\n",
              "    }\n",
              "\n",
              "    [theme=dark] .colab-df-convert:hover {\n",
              "      background-color: #434B5C;\n",
              "      box-shadow: 0px 1px 3px 1px rgba(0, 0, 0, 0.15);\n",
              "      filter: drop-shadow(0px 1px 2px rgba(0, 0, 0, 0.3));\n",
              "      fill: #FFFFFF;\n",
              "    }\n",
              "  </style>\n",
              "\n",
              "    <script>\n",
              "      const buttonEl =\n",
              "        document.querySelector('#df-a1271bd0-0f74-48d5-b9b7-ae3fe6c4fb67 button.colab-df-convert');\n",
              "      buttonEl.style.display =\n",
              "        google.colab.kernel.accessAllowed ? 'block' : 'none';\n",
              "\n",
              "      async function convertToInteractive(key) {\n",
              "        const element = document.querySelector('#df-a1271bd0-0f74-48d5-b9b7-ae3fe6c4fb67');\n",
              "        const dataTable =\n",
              "          await google.colab.kernel.invokeFunction('convertToInteractive',\n",
              "                                                    [key], {});\n",
              "        if (!dataTable) return;\n",
              "\n",
              "        const docLinkHtml = 'Like what you see? Visit the ' +\n",
              "          '<a target=\"_blank\" href=https://colab.research.google.com/notebooks/data_table.ipynb>data table notebook</a>'\n",
              "          + ' to learn more about interactive tables.';\n",
              "        element.innerHTML = '';\n",
              "        dataTable['output_type'] = 'display_data';\n",
              "        await google.colab.output.renderOutput(dataTable, element);\n",
              "        const docLink = document.createElement('div');\n",
              "        docLink.innerHTML = docLinkHtml;\n",
              "        element.appendChild(docLink);\n",
              "      }\n",
              "    </script>\n",
              "  </div>\n",
              "\n",
              "\n",
              "<div id=\"df-3d3fea72-6862-48a6-9557-a7db8f1d4736\">\n",
              "  <button class=\"colab-df-quickchart\" onclick=\"quickchart('df-3d3fea72-6862-48a6-9557-a7db8f1d4736')\"\n",
              "            title=\"Suggest charts\"\n",
              "            style=\"display:none;\">\n",
              "\n",
              "<svg xmlns=\"http://www.w3.org/2000/svg\" height=\"24px\"viewBox=\"0 0 24 24\"\n",
              "     width=\"24px\">\n",
              "    <g>\n",
              "        <path d=\"M19 3H5c-1.1 0-2 .9-2 2v14c0 1.1.9 2 2 2h14c1.1 0 2-.9 2-2V5c0-1.1-.9-2-2-2zM9 17H7v-7h2v7zm4 0h-2V7h2v10zm4 0h-2v-4h2v4z\"/>\n",
              "    </g>\n",
              "</svg>\n",
              "  </button>\n",
              "\n",
              "<style>\n",
              "  .colab-df-quickchart {\n",
              "      --bg-color: #E8F0FE;\n",
              "      --fill-color: #1967D2;\n",
              "      --hover-bg-color: #E2EBFA;\n",
              "      --hover-fill-color: #174EA6;\n",
              "      --disabled-fill-color: #AAA;\n",
              "      --disabled-bg-color: #DDD;\n",
              "  }\n",
              "\n",
              "  [theme=dark] .colab-df-quickchart {\n",
              "      --bg-color: #3B4455;\n",
              "      --fill-color: #D2E3FC;\n",
              "      --hover-bg-color: #434B5C;\n",
              "      --hover-fill-color: #FFFFFF;\n",
              "      --disabled-bg-color: #3B4455;\n",
              "      --disabled-fill-color: #666;\n",
              "  }\n",
              "\n",
              "  .colab-df-quickchart {\n",
              "    background-color: var(--bg-color);\n",
              "    border: none;\n",
              "    border-radius: 50%;\n",
              "    cursor: pointer;\n",
              "    display: none;\n",
              "    fill: var(--fill-color);\n",
              "    height: 32px;\n",
              "    padding: 0;\n",
              "    width: 32px;\n",
              "  }\n",
              "\n",
              "  .colab-df-quickchart:hover {\n",
              "    background-color: var(--hover-bg-color);\n",
              "    box-shadow: 0 1px 2px rgba(60, 64, 67, 0.3), 0 1px 3px 1px rgba(60, 64, 67, 0.15);\n",
              "    fill: var(--button-hover-fill-color);\n",
              "  }\n",
              "\n",
              "  .colab-df-quickchart-complete:disabled,\n",
              "  .colab-df-quickchart-complete:disabled:hover {\n",
              "    background-color: var(--disabled-bg-color);\n",
              "    fill: var(--disabled-fill-color);\n",
              "    box-shadow: none;\n",
              "  }\n",
              "\n",
              "  .colab-df-spinner {\n",
              "    border: 2px solid var(--fill-color);\n",
              "    border-color: transparent;\n",
              "    border-bottom-color: var(--fill-color);\n",
              "    animation:\n",
              "      spin 1s steps(1) infinite;\n",
              "  }\n",
              "\n",
              "  @keyframes spin {\n",
              "    0% {\n",
              "      border-color: transparent;\n",
              "      border-bottom-color: var(--fill-color);\n",
              "      border-left-color: var(--fill-color);\n",
              "    }\n",
              "    20% {\n",
              "      border-color: transparent;\n",
              "      border-left-color: var(--fill-color);\n",
              "      border-top-color: var(--fill-color);\n",
              "    }\n",
              "    30% {\n",
              "      border-color: transparent;\n",
              "      border-left-color: var(--fill-color);\n",
              "      border-top-color: var(--fill-color);\n",
              "      border-right-color: var(--fill-color);\n",
              "    }\n",
              "    40% {\n",
              "      border-color: transparent;\n",
              "      border-right-color: var(--fill-color);\n",
              "      border-top-color: var(--fill-color);\n",
              "    }\n",
              "    60% {\n",
              "      border-color: transparent;\n",
              "      border-right-color: var(--fill-color);\n",
              "    }\n",
              "    80% {\n",
              "      border-color: transparent;\n",
              "      border-right-color: var(--fill-color);\n",
              "      border-bottom-color: var(--fill-color);\n",
              "    }\n",
              "    90% {\n",
              "      border-color: transparent;\n",
              "      border-bottom-color: var(--fill-color);\n",
              "    }\n",
              "  }\n",
              "</style>\n",
              "\n",
              "  <script>\n",
              "    async function quickchart(key) {\n",
              "      const quickchartButtonEl =\n",
              "        document.querySelector('#' + key + ' button');\n",
              "      quickchartButtonEl.disabled = true;  // To prevent multiple clicks.\n",
              "      quickchartButtonEl.classList.add('colab-df-spinner');\n",
              "      try {\n",
              "        const charts = await google.colab.kernel.invokeFunction(\n",
              "            'suggestCharts', [key], {});\n",
              "      } catch (error) {\n",
              "        console.error('Error during call to suggestCharts:', error);\n",
              "      }\n",
              "      quickchartButtonEl.classList.remove('colab-df-spinner');\n",
              "      quickchartButtonEl.classList.add('colab-df-quickchart-complete');\n",
              "    }\n",
              "    (() => {\n",
              "      let quickchartButtonEl =\n",
              "        document.querySelector('#df-3d3fea72-6862-48a6-9557-a7db8f1d4736 button');\n",
              "      quickchartButtonEl.style.display =\n",
              "        google.colab.kernel.accessAllowed ? 'block' : 'none';\n",
              "    })();\n",
              "  </script>\n",
              "</div>\n",
              "\n",
              "    </div>\n",
              "  </div>\n"
            ],
            "application/vnd.google.colaboratory.intrinsic+json": {
              "type": "dataframe",
              "variable_name": "df",
              "summary": "{\n  \"name\": \"df\",\n  \"rows\": 1716,\n  \"fields\": [\n    {\n      \"column\": \"title\",\n      \"properties\": {\n        \"dtype\": \"string\",\n        \"num_unique_values\": 1678,\n        \"samples\": [\n          \"Protein Pow No-Bake Buckeyes\",\n          \"Peanut Butter Popcorn\",\n          \"Banana Almond Cream Shake (Vegetarian-Friendly)\"\n        ],\n        \"semantic_type\": \"\",\n        \"description\": \"\"\n      }\n    },\n    {\n      \"column\": \"author\",\n      \"properties\": {\n        \"dtype\": \"category\",\n        \"num_unique_values\": 154,\n        \"samples\": [\n          \"Sarah Wilkins\",\n          \"Anna Sward @proteinpow.com\",\n          \"Shyane Franklin\"\n        ],\n        \"semantic_type\": \"\",\n        \"description\": \"\"\n      }\n    },\n    {\n      \"column\": \"description\",\n      \"properties\": {\n        \"dtype\": \"string\",\n        \"num_unique_values\": 1614,\n        \"samples\": [\n          \"Just when you thought you knew every peanut-butter trick in the book, this burger comes along. Peanut butter can work in either sweet or savory dishes, and this delicious version of a classic proves it. Seasoned with salt and pepper and topped with rich, smoky bacon and cheddar cheese, these peanut butter burgers are an easy, mouth-watering addition to any backyard barbecue. You'll never look at a burger the same way again!\",\n          \"You can't go wrong with this traditional hummus recipe. With simple ingredients that produce a fresh, light flavor, this recipe is sure to be a crowd favorite.\",\n          \"Nothing beats the gorgeous presentation and flavor of mahi-mahi. Gently grill this clean, light protein source, and either plate it with a radiant yogurt slaw or sandwich it between toasted whole-wheat halves.\"\n        ],\n        \"semantic_type\": \"\",\n        \"description\": \"\"\n      }\n    },\n    {\n      \"column\": \"calories\",\n      \"properties\": {\n        \"dtype\": \"number\",\n        \"std\": 248,\n        \"min\": 0,\n        \"max\": 3310,\n        \"num_unique_values\": 677,\n        \"samples\": [\n          306,\n          230,\n          235\n        ],\n        \"semantic_type\": \"\",\n        \"description\": \"\"\n      }\n    },\n    {\n      \"column\": \"carbs\",\n      \"properties\": {\n        \"dtype\": \"number\",\n        \"std\": 28,\n        \"min\": 0,\n        \"max\": 407,\n        \"num_unique_values\": 135,\n        \"samples\": [\n          73,\n          57,\n          82\n        ],\n        \"semantic_type\": \"\",\n        \"description\": \"\"\n      }\n    },\n    {\n      \"column\": \"proteins\",\n      \"properties\": {\n        \"dtype\": \"number\",\n        \"std\": 22,\n        \"min\": 0,\n        \"max\": 193,\n        \"num_unique_values\": 104,\n        \"samples\": [\n          26,\n          78,\n          77\n        ],\n        \"semantic_type\": \"\",\n        \"description\": \"\"\n      }\n    },\n    {\n      \"column\": \"fats\",\n      \"properties\": {\n        \"dtype\": \"number\",\n        \"std\": 13,\n        \"min\": 0,\n        \"max\": 224,\n        \"num_unique_values\": 72,\n        \"samples\": [\n          12,\n          53,\n          7\n        ],\n        \"semantic_type\": \"\",\n        \"description\": \"\"\n      }\n    },\n    {\n      \"column\": \"ingrediants\",\n      \"properties\": {\n        \"dtype\": \"object\",\n        \"semantic_type\": \"\",\n        \"description\": \"\"\n      }\n    },\n    {\n      \"column\": \"directions\",\n      \"properties\": {\n        \"dtype\": \"object\",\n        \"semantic_type\": \"\",\n        \"description\": \"\"\n      }\n    },\n    {\n      \"column\": \"image_link\",\n      \"properties\": {\n        \"dtype\": \"string\",\n        \"num_unique_values\": 1682,\n        \"samples\": [\n          \"https://www.bodybuilding.com/images/2017/october/freakmode-recipes-graphics-parm-fish-header-960x540.jpg\",\n          \"https://www.bodybuilding.com/images/2018/april/rsp-protein-recipes-graphiocs-1-header-960x540.jpg\",\n          \"https://www.bodybuilding.com/images/2017/april/protein-pow-no-bake-buckeyes-header-v2-960x540.jpg\"\n        ],\n        \"semantic_type\": \"\",\n        \"description\": \"\"\n      }\n    }\n  ]\n}"
            }
          },
          "metadata": {},
          "execution_count": 16
        }
      ]
    },
    {
      "cell_type": "markdown",
      "source": [
        "### Generating Embeddings"
      ],
      "metadata": {
        "id": "864mcLG-Cus0"
      }
    },
    {
      "cell_type": "markdown",
      "source": [
        "Now that we have a recipe dataset ready to rock and roll, the next step is transforming each recipe into an embedding that accurately captures the semantic meaning of each recipe in vector form. Looking at the columns of our dataset from above, we have a few different options to play around with for determining what combination of attributes would best represent the semantic meaning of each recipe. For example, would we want to include amount of carbs, protiens and fats in the embedding? What about the recipe author?\n",
        "\n",
        "Choosing what to include in each embedding is an important thought exercise, and requires a nuanced understanding of how we imagine our vector database would be used by our application. In practice, we might run A/B tests on different combinations of attributes to see which combinations yield the highest precision against a test set of queries. However, we're going to keep things simple here and construct our embeddings using a combination of a recipe's title and description, while storing the rest of the attributes in a metadata storage system. More on that aspect in bit.\n",
        "\n",
        "We'll create our embeddings using a two step process; first, we will use pandas to combine the `title` and `description` strings into a new feature we'll call `title_description`, before converting those new features into a list. Second, we'll pass in that list to the `SentenceTransformer` embedding model to convert each feature string into an embedding. While this might sound like a lot, it actually only takes 4 lines of code to achieve."
      ],
      "metadata": {
        "id": "h6elb403o7qu"
      }
    },
    {
      "cell_type": "code",
      "source": [
        "# Santize description column string\n",
        "df['description'] = df['description'].str.replace('\\n', '', regex=False)\n",
        "\n",
        "# Combine title and description\n",
        "df['title_description'] = df['title'] + \": \" + df['description']\n",
        "recipes = df['title_description'].tolist()\n",
        "\n",
        "# Initialize Sentence Transformer model and encode recipes\n",
        "model = SentenceTransformer('all-MiniLM-L6-v2')\n",
        "embeddings = model.encode(recipes)\n",
        "\n",
        "# Print Output\n",
        "print(f\"Total Recipes: {len(recipes)}\")\n",
        "print(f\"Total Embeddings: {len(embeddings)}\")\n",
        "print(f\"Embedding Dimensions: {embeddings[0].shape[0]}\")"
      ],
      "metadata": {
        "id": "NkLmw3x_dm91",
        "colab": {
          "base_uri": "https://localhost:8080/"
        },
        "outputId": "5801939d-eba8-4db5-bb36-d115616bc85c"
      },
      "execution_count": null,
      "outputs": [
        {
          "output_type": "stream",
          "name": "stdout",
          "text": [
            "Total Recipes: 1716\n",
            "Total Embeddings: 1716\n",
            "Embedding Dimensions: 384\n"
          ]
        }
      ]
    },
    {
      "cell_type": "markdown",
      "source": [
        "We can see that the ouput of the above code has resulted in generating an embedding for every recipe in our dataset, with each embedding having 384 dimensions.\n",
        "\n",
        "If you're wondering why 384 is the magic number, it's just because that's what the specific pretrained model we're using ([all-MiniLM-L6-v2](https://huggingface.co/sentence-transformers/all-MiniLM-L6-v2)) was optimized for. Different embedding models will produce vectors of different dimensions and quality; for example, the default number of output dimensions for [OpenAI's](https://platform.openai.com/docs/guides/embeddings/what-are-embeddings) `text-embedding-3-small` embedding model is 1536, while the `text-embedding-3-large` model has a default of 3072 dimensions. Compared to those models, 384 might seem like a low number, but the trade-off is that increasing the number of dimensions will also increase our storage, memory, and computation costs. Given our naive implementation and low requirements, `all-MiniLM-L6-v2`  strikes a good balance between capturing sufficient information and being computationally feasible, while still being production grade."
      ],
      "metadata": {
        "id": "3vWYlMnYo4VL"
      }
    },
    {
      "cell_type": "markdown",
      "source": [
        "### Vector Database Requirements Overview"
      ],
      "metadata": {
        "id": "KK1xBZ8jk6GI"
      }
    },
    {
      "cell_type": "markdown",
      "source": [
        "Now let's get to the exciting part of this post: how our vector database will work with these embeddings. Database design is a subject matter onto itself that can get complex quickly, but the key concept to grap is that any persistant storage system's functionality will largely revolve around what are known as the \"CRUD\" operations of create, read, update, and delete. Given our simple implementation and use case, we're only going to include on the first two operations (create and read), while additionally including some features optimized for working specifically with embeddings.\n",
        "\n",
        "Below is the full list of features we'll going to create:\n",
        "\n",
        "* **Query Sanitization**: We'll sanitize input text to normalize and enhance its semantic meaning. This will also facilitate efficient storage of embeddings in the cache.\n",
        "* **Caching**: We'll implement a Least Recently Used (LRU) cache to store recently searched query embeddings in memory, reducing computational load and potential costs associated with running the embedding model.\n",
        "* **Search Method**: We'll develop a method to return the top 5 most similar embeddings, along with their associated metadata, based on the input query\n",
        "\n",
        "We'll tackle these in order, starting with query sanitization!"
      ],
      "metadata": {
        "id": "6YGdE9dcYY_H"
      }
    },
    {
      "cell_type": "markdown",
      "source": [
        "### Query Sanitization\n",
        "\n",
        "Query sanitization is a handy technique in NLP applications that helps boost performance by first \"cleaning up\" an input string before converting it into an embedding. This step is useful for a bunch of reasons:\n",
        "\n",
        "* **Consistency**: Ensures that input queries are consistent with the data stored in the vector database. This consistency can lead to more accurate and relevant search results.\n",
        "* **Security**: Helps prevent injection attacks or other malicious inputs that could compromise the security of the database or the application using it. This is particularly important for web applications that accept user inputs.\n",
        "* **Performance Optimization**: Removes unnecessary characters and normalizes the input, which can reduce the complexity of processing queries and improve the performance of the database.\n",
        "* **Improved Search Accuracy**: Enhances the semantic integrity of the query, leading to better matching and retrieval. For instance, removing stop words and performing stemming or lemmatization can make the query more effective.\n",
        "\n",
        "For our scratch database, we won't be performing any complex preprocessing steps. Instead, we'll focus on three main tasks: removing special characters, normalizing the text by converting it to lowercase, and removing stopwords. In case you're unfamiliar with “stopwords”, they are common words that occur frequently in a language but typically don't carry significant meaning. Examples of stopwords include “is,” “in,” “and,” “the,” “a,” and so on.\n",
        "\n",
        "Let's get started by using the `nltk` library to download a list of english stopwords, You can view view full the list of words included [here](https://www.geeksforgeeks.org/removing-stop-words-nltk-python/)."
      ],
      "metadata": {
        "id": "rQsmA7DC4Cwc"
      }
    },
    {
      "cell_type": "code",
      "source": [
        "# Download NLTK stopwords\n",
        "from nltk.corpus import stopwords\n",
        "nltk.download('stopwords')\n",
        "stop_words = set(stopwords.words('english'))"
      ],
      "metadata": {
        "colab": {
          "base_uri": "https://localhost:8080/"
        },
        "id": "8L5PGn3ooVD5",
        "outputId": "7abcb9c1-f5ef-477d-b54d-25108fa709ae"
      },
      "execution_count": null,
      "outputs": [
        {
          "output_type": "stream",
          "name": "stderr",
          "text": [
            "[nltk_data] Downloading package stopwords to /root/nltk_data...\n",
            "[nltk_data]   Unzipping corpora/stopwords.zip.\n"
          ]
        }
      ]
    },
    {
      "cell_type": "markdown",
      "source": [
        "Next, let's write a simple function that handles the three sanitization tasks we mentioned above:"
      ],
      "metadata": {
        "id": "ZBf2v3L6A9We"
      }
    },
    {
      "cell_type": "code",
      "source": [
        "def sanitize_query(query: string):\n",
        "  # Lowercase text\n",
        "  lowercased = query.lower()\n",
        "  # Remove punctuation\n",
        "  text = re.sub(f'[{re.escape(string.punctuation)}]', '', lowercased)\n",
        "  # Tokenize and remove stopwords\n",
        "  text = [token for token in text.split() if token not in stop_words]\n",
        "  return \" \".join(text)\n",
        "\n",
        "input = \"Asian healthy chicken and rice recipes!!!!\"\n",
        "sanitize_query(input)"
      ],
      "metadata": {
        "colab": {
          "base_uri": "https://localhost:8080/",
          "height": 35
        },
        "id": "1WxcQ8O74Gsv",
        "outputId": "7b37d451-ffd0-4a86-8ce5-22ecb483a89d"
      },
      "execution_count": null,
      "outputs": [
        {
          "output_type": "execute_result",
          "data": {
            "text/plain": [
              "'asian healthy chicken rice recipes'"
            ],
            "application/vnd.google.colaboratory.intrinsic+json": {
              "type": "string"
            }
          },
          "metadata": {},
          "execution_count": 21
        }
      ]
    },
    {
      "cell_type": "markdown",
      "source": [
        "### Creating a Least Recently Used (LRU) Cache"
      ],
      "metadata": {
        "id": "WQ9pJw4fCDu_"
      }
    },
    {
      "cell_type": "markdown",
      "source": [
        "\n",
        "Next, let's implement a low-effort caching system for storing already generated query embeddings. While the `SentenceTransformer` model we're using is open-source and doesn't cost money to run, there are still performance gains to be considered by not having to generate every user query from scratch. Additionally, if we ever decide to swap out our current embedding model for a state-of-the-art one (like OpenAI or VoyageAI) where we might need to pay for token consumption, having a caching system is one way to implement cost-saving guardrails.\n",
        "\n",
        "There are many different caching systems to choose from, but given our goal of trying to reduce the number of queries we run through our embedding model, focusing on caching the most frequently occurring queries seems like a good approach. Enter a Least Recently Used (or LRU) cache! An LRU cache works exactly as it sounds, by removing the least recently used key-value pairs from memory, which ensures that only the most frequent queries remain in the cache.\n",
        "\n",
        "The actual implementation is straightforward. Every time a user runs a new query through our database, we will first check the LRU cache. If the key exists (after running query sanitization), we will return the associated embedding and then bump the key to the end of the cache (which represents the \"safe\" zone). If the key doesn't exist, we will store the query and its embedding in the cache, and then remove the key-value pair at the front of the cache if the length of the cache exceeds our specified limit."
      ],
      "metadata": {
        "id": "6YgfKSKdGx3o"
      }
    },
    {
      "cell_type": "code",
      "source": [
        "from collections import OrderedDict\n",
        "from typing import List\n",
        "\n",
        "class LRUCache:\n",
        "  def __init__(self, capacity: int):\n",
        "    self.cache = OrderedDict()\n",
        "    self.capacity = capacity\n",
        "\n",
        "  def get(self, key: str) -> int:\n",
        "    # If they key doesn't exist in the cache, return\n",
        "    if key not in self.cache: return None\n",
        "    # Move accessed key to the end & return value\n",
        "    self.cache.move_to_end(key)\n",
        "    return self.cache[key]\n",
        "\n",
        "  def put(self, key: str, value: List[float]) -> None:\n",
        "    # If key is in cache, update\n",
        "    if key in self.cache: self.cache.move_to_end(key)\n",
        "    # Create key/value pair in cache\n",
        "    self.cache[key] = value\n",
        "    if len(self.cache) > self.capacity:\n",
        "      # Pop the first item from the ordered dict (the least recently used)\n",
        "      self.cache.popitem(last=False)"
      ],
      "metadata": {
        "id": "vQBlg4tiCeVp"
      },
      "execution_count": null,
      "outputs": []
    },
    {
      "cell_type": "markdown",
      "source": [
        "In order to see the performance gains of leveraging an LRU cache in action, let's use a decorator function to measure the speed improvements of retrieving an embedding from memory versus generating it from scratch. Let's start by defining a simple time decorator function:"
      ],
      "metadata": {
        "id": "L6TyBi2C9Am0"
      }
    },
    {
      "cell_type": "code",
      "source": [
        "# Import time modele\n",
        "import time\n",
        "\n",
        "# Define a decorator function to measure execution time of a function\n",
        "def time_decorator(func):\n",
        "  # Define a wrapper function to add the timing functionality\n",
        "  def wrapper(*args, **kwargs):\n",
        "    # Record the start time\n",
        "    start_time = time.time()\n",
        "    # Execute the function with its arguments and keyword arguments\n",
        "    result = func(*args, **kwargs)\n",
        "    # Record the end time\n",
        "    end_time = time.time()\n",
        "    # Calculate the elapsed time\n",
        "    elapsed_time = end_time - start_time\n",
        "    # Print the function name and the elapsed time\n",
        "    print(f\"Function '{func.__name__}' executed in {elapsed_time:.4f} seconds\")\n",
        "    # Return the result of the function\n",
        "    return result\n",
        "\n",
        "  # Return the wrapper function\n",
        "  return wrapper"
      ],
      "metadata": {
        "id": "dVYt0WQ89Dwx"
      },
      "execution_count": null,
      "outputs": []
    },
    {
      "cell_type": "markdown",
      "source": [
        "And next, let's create an instance of our LRU cache, and measure the execution time of our new `generate_embedding` function."
      ],
      "metadata": {
        "id": "4rxptskdHLPE"
      }
    },
    {
      "cell_type": "code",
      "source": [
        "# Init a new instance of an LRU cache\n",
        "cache = LRUCache(capacity=100)\n",
        "\n",
        "@time_decorator\n",
        "def generate_embedding(query: string):\n",
        "  # Sanitize input\n",
        "  sanitized = sanitize_query(query)\n",
        "  # Generate embedding and update cache\n",
        "  embedding = cache.get(sanitized) if cache.get(sanitized) is not None else model.encode(sanitized)\n",
        "  cache.put(sanitized, embedding)\n",
        "  # Return Embedding\n",
        "  return embedding\n",
        "\n",
        "# Example usage\n",
        "embedding = generate_embedding(\"High protein and healthy snacks\")\n",
        "embedding = generate_embedding(\"High protein and healthy snacks\")"
      ],
      "metadata": {
        "colab": {
          "base_uri": "https://localhost:8080/"
        },
        "id": "flvsKAXcHLja",
        "outputId": "2c26e550-0839-4ea1-8328-3856c73cb22f"
      },
      "execution_count": null,
      "outputs": [
        {
          "output_type": "stream",
          "name": "stdout",
          "text": [
            "Function 'generate_embedding' executed in 0.0362 seconds\n",
            "Function 'generate_embedding' executed in 0.0000 seconds\n"
          ]
        }
      ]
    },
    {
      "cell_type": "markdown",
      "source": [
        "Wow! In additon to any cost savings gained by not having to run the embedding model each time, retrieving an embedding from cache was about ~362 times faster than generating it from scratch! At scale, this would be an immensely helpful performance optimization if we were potentially processing thousands of concurrent requests."
      ],
      "metadata": {
        "id": "VyIw0MAW-qUz"
      }
    },
    {
      "cell_type": "markdown",
      "source": [
        "### Search Method"
      ],
      "metadata": {
        "id": "F9kONLI7SLfy"
      }
    },
    {
      "cell_type": "markdown",
      "source": [
        "Last but not least, the final and most exciting feature in our vector database will be the implementation of a search function that returns the most similar embeddings to a user-provided query. To achieve this, we will utilize the linear algebra concept of cosine similarity, which I briefly covered a few months ago in my post “[Intro to NLP with TF-IDF Vectorization](https://www.zacmessinger.com/posts/intro-to-nlp-with-tfidf).” This time, however, we will delve into greater depth.\n",
        "\n",
        "Cosine similarity, in simple terms, measures how similar two vectors are by looking at the angle between them. If the angle is small, then we would generally say that the vectors are similar, where if the angle is large, we would say that they are dissimlar. The easiest way to grasp this concept is visually, so let's plot three basic vectors with a little help from the handy `matplotlib` library:"
      ],
      "metadata": {
        "id": "hwU6cjefQskd"
      }
    },
    {
      "cell_type": "code",
      "source": [
        "# Define the vectors\n",
        "vector_a = np.array([1, 2, 3])\n",
        "vector_b = np.array([2, 3, 4])\n",
        "vector_c = np.array([4, 1, 0])\n",
        "\n",
        "# Plot the vectors\n",
        "plt.figure()\n",
        "\n",
        "# Plot vectors\n",
        "plt.quiver(0, 0, vector_a[0], vector_a[1], angles='xy', scale_units='xy', scale=1, color='r', label='Vector A')\n",
        "plt.quiver(0, 0, vector_b[0], vector_b[1], angles='xy', scale_units='xy', scale=1, color='g', label='Vector B')\n",
        "plt.quiver(0, 0, vector_c[0], vector_c[1], angles='xy', scale_units='xy', scale=1, color='b', label='Vector C')\n",
        "\n",
        "# Setting the plot limits\n",
        "plt.xlim(-1, 5)\n",
        "plt.ylim(-1, 4)\n",
        "\n",
        "# Add titles and labels\n",
        "plt.title('Vector Plot')\n",
        "plt.xlabel('X')\n",
        "plt.ylabel('Y')\n",
        "plt.legend()\n",
        "\n",
        "# Display the plot\n",
        "plt.grid()\n",
        "plt.show()"
      ],
      "metadata": {
        "colab": {
          "base_uri": "https://localhost:8080/",
          "height": 472
        },
        "id": "Hv-vLe6QB9UJ",
        "outputId": "2b244b55-d7fc-4676-c4dd-0576f5bc04e6"
      },
      "execution_count": null,
      "outputs": [
        {
          "output_type": "display_data",
          "data": {
            "text/plain": [
              "<Figure size 640x480 with 1 Axes>"
            ],
            "image/png": "[encoded data removed]"
          },
          "metadata": {}
        }
      ]
    },
    {
      "cell_type": "markdown",
      "source": [
        "It's very easy to see the vectors A and B are much more similar than vectors B and C, because they are pointing in nearly identical directions. But the trick is, how can we represent these relationships mathmatically given that we could potentially be comparing thousands of vectors, or more, at once? Enter cosine simialrity, otherwise known as the [Euclidean Dot Product](https://en.wikipedia.org/wiki/Cosine_similarity) formula.\n",
        "\n",
        "Let's layout the formula in it's entirety and then walk through a practical example of how to apply it.\n",
        "\n",
        "$$\n",
        " \\text{cosine similarity} = S_C(A, B) := \\cos(\\theta) = \\frac{\\mathbf{A} \\cdot \\mathbf{B}}{\\|\\mathbf{A}\\| \\|\\mathbf{B}\\|} = \\frac{\\sum_{i=1}^{n} A_i B_i}{\\sqrt{\\sum_{i=1}^{n} A_i^2} \\cdot \\sqrt{\\sum_{i=1}^{n} B_i^2}}\n",
        "$$\n",
        "\n",
        "To break it down into layman's terms:\n",
        "\n",
        "* We calculate the dot product of vector $A$ and vector $B$, represented by the formula ${\\sum_{i=1}^{n} A_i B_i}$. If you want to learn more about dot product multiplication, check out my [Fun with Linear Algebra and Matrices\n",
        "](https://www.zacmessinger.com/posts/fun-with-linear-algebra-and-matrices) post.\n",
        "* We determine the product of their magnitudes by applying the Euclidean norm, which is a fancy way of saying we take the square root of the sum of the squares of each vector's componenets. The Euclidean norm is represented by the formula ${\\sqrt{\\sum_{i=1}^{n} A_i^2} \\cdot \\sqrt{\\sum_{i=1}^{n} B_i^2}}$.\n",
        "* We then calculate the cosine similarity by dividing the dot product of the vectors by the product of their magnitudes.\n",
        "\n",
        "This math might sound intimidating, but it's simplier than it looks. Let's go through an example together using the two vectors below:\n",
        "\n",
        "$$\n",
        "\\mathbf{a} = \\begin{bmatrix} 1 \\\\ 2 \\\\ 3 \\end{bmatrix}, \\quad\n",
        "\\mathbf{b} = \\begin{bmatrix} 2 \\\\ 3 \\\\ 4 \\end{bmatrix}, \\quad\n",
        "$$\n",
        "\n",
        "First, we calculate the dot product of the vectors.\n",
        "\n",
        "$$\n",
        "\\mathbf{A} \\cdot \\mathbf{B} = (1 \\cdot 2) + (2 \\cdot 3) + (3 \\cdot 4) = 2 + 6 + 12 = 20\n",
        "$$\n",
        "\n",
        "Next, we determine the magnitude of each vector.\n",
        "\n",
        "$$\n",
        "\\|\\mathbf{A}\\| = \\sqrt{1^2 + 2^2 + 3^2} = \\sqrt{1 + 4 + 9} = \\sqrt{14} \\\\\n",
        "\\|\\mathbf{B}\\| = \\sqrt{2^2 + 3^2 + 4^2} = \\sqrt{4 + 9 + 16} = \\sqrt{29} \\\\\n",
        "$$\n",
        "\n",
        "\n",
        "Finally, we divide the dot product by the product of the vectors’ magnitudes.\n",
        "\n",
        "$$\n",
        "\\|\\mathbf{A}\\| * \\|\\mathbf{B}\\| = \\sqrt{14} \\cdot \\sqrt{29} = \\sqrt{14 \\times 29} = \\sqrt{406} \\\\\n",
        "\\|\\mathbf{A}\\| * \\|\\mathbf{B}\\| = \\sqrt{406} \\approx 20.1494 \\\\\n",
        "\\cos(\\theta) = \\frac{20}{20.1494} \\approx 0.9925\n",
        "$$\n",
        "\n",
        "Converting this formula into Python is extremely easy using python's `numpy` library, which provides support for working with large, multi-dimensional arrays and matrices along with a large collection of high-level mathematical functions to operate on these arrays."
      ],
      "metadata": {
        "id": "eTd-K1d8JR2Q"
      }
    },
    {
      "cell_type": "code",
      "source": [
        "def cosine_similarity(vector_a, vector_b):\n",
        "  # Ensure the vectors are numpy arrays\n",
        "  vector_a = np.array(vector_a)\n",
        "  vector_b = np.array(vector_b)\n",
        "  # Calculate the dot product\n",
        "  dot_product = np.dot(vector_a, vector_b)\n",
        "  # Calculate the magnitudes of the vectors\n",
        "  magnitude_a = np.linalg.norm(vector_a)\n",
        "  magnitude_b = np.linalg.norm(vector_b)\n",
        "  # Calculate the cosine similarity\n",
        "  cosine_sim = dot_product / (magnitude_a * magnitude_b)\n",
        "  return cosine_sim\n",
        "\n",
        "# Example usage\n",
        "vector_a = [1, 2, 3]\n",
        "vector_b = [2, 3, 4]\n",
        "cosine_similarity(vector_a, vector_b)"
      ],
      "metadata": {
        "colab": {
          "base_uri": "https://localhost:8080/"
        },
        "id": "mHwUCoz0RyMq",
        "outputId": "58f6225f-8c88-452e-f7ea-84cf568e5d0f"
      },
      "execution_count": null,
      "outputs": [
        {
          "output_type": "execute_result",
          "data": {
            "text/plain": [
              "0.9925833339709303"
            ]
          },
          "metadata": {},
          "execution_count": 102
        }
      ]
    },
    {
      "cell_type": "markdown",
      "source": [
        "In case you're wondering whether 0.9925 is a good or bad score, it's important to understand the range and meaning of cosine similarity values. The cosine similarity formula produces a score between -1 and 1. A score of 1 indicates that the compared vectors point in exactly the same direction, and conversely, a score of -1 indicates that the items are diametrically opposed, meaning they point in exactly opposite directions. A score of 0 indicates that the vectors are orthogonal, or at a 90-degree angle to each other, signifying no directional similarity.\n",
        "\n",
        "To put this into perspective, here's a plot comparing vectors that are identical (0-degree angle), orthogonal (90-degree angle), and in opposite directions, along with their cosine similarity scores:"
      ],
      "metadata": {
        "id": "L6SzaeqLAO1J"
      }
    },
    {
      "cell_type": "code",
      "source": [
        "# Define example vectors\n",
        "vector_a = [1, 0]\n",
        "vector_b = [0, 1]\n",
        "vector_c = [-1, 0]\n",
        "\n",
        "# Create plot\n",
        "plt.figure()\n",
        "\n",
        "# Plot each vector\n",
        "plt.quiver(0, 0, vector_a[0], vector_a[1], angles='xy', scale_units='xy', scale=1, color='r', label='Vector A')\n",
        "plt.quiver(0, 0, vector_b[0], vector_b[1], angles='xy', scale_units='xy', scale=1, color='g', label='Vector B')\n",
        "plt.quiver(0, 0, vector_c[0], vector_c[1], angles='xy', scale_units='xy', scale=1, color='b', label='Vector C')\n",
        "\n",
        "# Setting the plot limits\n",
        "plt.xlim(-2, 2)\n",
        "plt.ylim(-1, 2)\n",
        "\n",
        "# Add titles and labels\n",
        "plt.title('Vector Plot')\n",
        "plt.xlabel('X')\n",
        "plt.ylabel('Y')\n",
        "plt.legend()\n",
        "\n",
        "# Display the plot\n",
        "plt.grid()\n",
        "plt.show()\n",
        "\n",
        "# Calculate cosine similarities\n",
        "similarity_a_a = cosine_similarity(vector_a, vector_a)  # Orthogonal\n",
        "similarity_a_b = cosine_similarity(vector_a, vector_b)  # Orthogonal\n",
        "similarity_a_c = cosine_similarity(vector_a, vector_c)  # Opposite direction\n",
        "\n",
        "print(f'Cosine similarity between vector_a and vector_a (orthogonal): {similarity_a_a}')\n",
        "print(f'Cosine similarity between vector_a and vector_b (orthogonal): {similarity_a_b}')\n",
        "print(f'Cosine similarity between vector_a and vector_c (opposite direction): {similarity_a_c}')"
      ],
      "metadata": {
        "colab": {
          "base_uri": "https://localhost:8080/",
          "height": 578
        },
        "id": "i9k9RVZRMXav",
        "outputId": "50241b50-fe19-46bd-b600-f88c23d5b65b"
      },
      "execution_count": null,
      "outputs": [
        {
          "output_type": "display_data",
          "data": {
            "text/plain": [
              "<Figure size 800x550 with 1 Axes>"
            ],
            "image/png": "[encoded data removed]"
          },
          "metadata": {}
        },
        {
          "output_type": "stream",
          "name": "stdout",
          "text": [
            "Cosine similarity between vector_a and vector_a (orthogonal): 1.0\n",
            "Cosine similarity between vector_a and vector_b (orthogonal): 0.0\n",
            "Cosine similarity between vector_a and vector_c (opposite direction): -1.0\n"
          ]
        }
      ]
    },
    {
      "cell_type": "markdown",
      "source": [
        "In this context, a cosine similarity score of 0.9925 suggests that the vectors are highly similar and almost align perfectly with each other! If we re-examine our previously created vector plot, we can see that the angle between vectors $A$ and $B$ is extremely small, signifying that the vectors are nearly parallel and thus confirming their high similarity.\n",
        "\n",
        "To add support for cosine similarity in our vector database, we need to modify our existing `cosine_similarity` function to compare a single query vector against our database of stored embedding vectors. We can achieve this by nesting the formula inside a loop and returning the similarity scores for each vector pairing in a list."
      ],
      "metadata": {
        "id": "8ooP-lHCMe6W"
      }
    },
    {
      "cell_type": "code",
      "source": [
        "def cosine_similarity(query_vector, vectors):\n",
        "  similarities = []\n",
        "\n",
        "  for vector in vectors:\n",
        "    # Ensure the vectors are numpy arrays\n",
        "    vector_a = np.array(vector)\n",
        "    vector_b = np.array(query_vector)\n",
        "    # Calculate the dot product\n",
        "    dot_product = np.dot(vector_a, vector_b)\n",
        "    # Calculate the magnitudes of the vectors\n",
        "    magnitude_a = np.linalg.norm(vector_a)\n",
        "    magnitude_b = np.linalg.norm(vector_b)\n",
        "    # Calculate the cosine similarity\n",
        "    cosine_sim = dot_product / (magnitude_a * magnitude_b)\n",
        "    similarities.append(round(cosine_sim, 8))\n",
        "\n",
        "  return similarities\n",
        "\n",
        "# Example usage\n",
        "vector_a = [1, 2, 3]\n",
        "vectors = [[2, 3, 4], [4, 1, 0]]\n",
        "cosine_similarity(vector_a, vectors)"
      ],
      "metadata": {
        "colab": {
          "base_uri": "https://localhost:8080/"
        },
        "id": "BAkdo7SYSd3O",
        "outputId": "d939dafe-f7c6-4b6a-e584-4f1f29b60f8b"
      },
      "execution_count": null,
      "outputs": [
        {
          "output_type": "execute_result",
          "data": {
            "text/plain": [
              "[0.99258333, 0.38892223]"
            ]
          },
          "metadata": {},
          "execution_count": 28
        }
      ]
    },
    {
      "cell_type": "markdown",
      "source": [
        "And for validation, let's test our implementation against a production grade function from [scikit-learn](https://scikit-learn.org/), and see how our custom solution compares:"
      ],
      "metadata": {
        "id": "0gfHYUniVuw8"
      }
    },
    {
      "cell_type": "code",
      "source": [
        "from sklearn.metrics.pairwise import cosine_similarity\n",
        "\n",
        "cosine_similarity([vector_a], vectors)[0]"
      ],
      "metadata": {
        "colab": {
          "base_uri": "https://localhost:8080/"
        },
        "id": "6w8TyRToB486",
        "outputId": "406a53a6-c3a6-4a7f-b9ee-1994edf73648"
      },
      "execution_count": null,
      "outputs": [
        {
          "output_type": "execute_result",
          "data": {
            "text/plain": [
              "array([0.99258333, 0.38892223])"
            ]
          },
          "metadata": {},
          "execution_count": 29
        }
      ]
    },
    {
      "cell_type": "markdown",
      "source": [
        "Not bad! As a final step, let's combine all our previous logic into a single `search` function. This function will take a query, generate an embedding if it doesn't exist in the cache, measure the cosine similarities between the query embedding and the database of embeddings, and finally return the top 5 results closest to a score of 1, in descending order."
      ],
      "metadata": {
        "id": "PQYPakEcZwj-"
      }
    },
    {
      "cell_type": "code",
      "source": [
        "from sklearn.metrics.pairwise import cosine_similarity\n",
        "\n",
        "def search(query: str, k=5):\n",
        "  # Generate embedding\n",
        "  embedding = generate_embedding(query)\n",
        "  # Calculate cosine similarity\n",
        "  similarities = cosine_similarity([embedding], embeddings)[0]\n",
        "  # Find the indices of the top-k most similar documents\n",
        "  top_k_indices = similarities.argsort()[-k:][::-1]\n",
        "  # Print the most similar documents\n",
        "  print(\"Top-k similar documents:\")\n",
        "  for idx in top_k_indices:\n",
        "      print(f\"Document: {recipes[idx][:50]}... (Similarity: {similarities[idx]:.4f})\")\n",
        "  return top_k_indices\n",
        "\n",
        "search(\"Protein shakes for breakfast!\")"
      ],
      "metadata": {
        "colab": {
          "base_uri": "https://localhost:8080/"
        },
        "id": "hsJt_2YeGhIE",
        "outputId": "2a2aa7db-5e8b-4290-b189-00883c354a3e"
      },
      "execution_count": null,
      "outputs": [
        {
          "output_type": "stream",
          "name": "stdout",
          "text": [
            "Function 'generate_embedding' executed in 0.0003 seconds\n",
            "Top-k similar documents:\n",
            "Document: Protein Scramble: Breakfast is the most important ... (Similarity: 0.7110)\n",
            "Document: Protein Powder And Oatmeal: Instead of resorting t... (Similarity: 0.7099)\n",
            "Document: Morning Breakfast Shake: Need a powerful morning p... (Similarity: 0.6774)\n",
            "Document: Recipe: A Classic Protein Shake: Easy protein shak... (Similarity: 0.6636)\n",
            "Document: Banana Almond Cream Shake: You don't have to eat m... (Similarity: 0.6557)\n"
          ]
        },
        {
          "output_type": "execute_result",
          "data": {
            "text/plain": [
              "array([ 801, 1169, 1114,   31,  311])"
            ]
          },
          "metadata": {},
          "execution_count": 33
        }
      ]
    },
    {
      "cell_type": "markdown",
      "source": [
        "### Putting It All Together"
      ],
      "metadata": {
        "id": "7yxt6wJa_7Ef"
      }
    },
    {
      "cell_type": "markdown",
      "source": [
        "With all of our individual features fully implemented, the final step is to combine them into a single VectorDatabase class. While most class methods will be similar to what we've previously defined, there are a few key properties worth highlighting. These class properties are straightforward but crucial for the functionality and extendibility of the model:\n",
        "\n",
        "* `model`: This property will hold the model used for generating embeddings.\n",
        "* `dimensions`: This property represents the number of dimensions in each embedding. Although we don’t directly leverage it in our current implementation, it can be useful for validation purposes if we need to add new embeddings.\n",
        "* `vectors`: This property stores the actual embeddings.\n",
        "* `metadata`: This property contains any associated metadata for the embeddings.\n",
        "* `cache`: This property is used to store embeddings that have been previously computed, enhancing the efficiency of the search function.\n",
        "\n",
        "By consolidating all these components, our VectorDatabase class will provide a robust and efficient framework for handling vector-based queries and operations."
      ],
      "metadata": {
        "id": "1XgdQsL7bzyz"
      }
    },
    {
      "cell_type": "code",
      "source": [
        "from sklearn.metrics.pairwise import cosine_similarity\n",
        "from typing import Dict, List\n",
        "\n",
        "class VectorDatabase:\n",
        "  def __init__(self, dimensions: int, capacity: int = 100):\n",
        "    self.model = SentenceTransformer('all-MiniLM-L6-v2')\n",
        "    self.dimensions = dimensions\n",
        "    self.vectors = []\n",
        "    self.metadata = []\n",
        "    self.cache = LRUCache(capacity=100)\n",
        "\n",
        "  def initialize(self, embeddings: List[float], metadata: List[str]):\n",
        "    self.vectors = embeddings\n",
        "    self.metadata = metadata\n",
        "\n",
        "  def sanitize_query(self, query: string):\n",
        "    # Lowercase text\n",
        "    lowercased = query.lower()\n",
        "    # Remove punctuation\n",
        "    text = re.sub(f'[{re.escape(string.punctuation)}]', '', lowercased)\n",
        "    # Tokenize and remove stopwords\n",
        "    text = [token for token in text.split() if token not in stop_words]\n",
        "    return \" \".join(text)\n",
        "\n",
        "  def generate_embedding(self, query: string):\n",
        "    # Sanitize input\n",
        "    sanitized = self.sanitize_query(query)\n",
        "    # Generate embedding and update cache\n",
        "    embedding = cache.get(sanitized) if cache.get(sanitized) is not None else model.encode(sanitized)\n",
        "    cache.put(sanitized, embedding)\n",
        "    # Return Embedding\n",
        "    return embedding\n",
        "\n",
        "  def search(self, query: str, k=5):\n",
        "    # Generate embedding\n",
        "    embedding = self.generate_embedding(query)\n",
        "    # Calculate cosine similarity\n",
        "    similarities = cosine_similarity([embedding], embeddings)[0]\n",
        "    # Find the indices of the top-k most similar documents\n",
        "    top_k_indices = similarities.argsort()[-k:][::-1]\n",
        "    return [self.metadata[idx] for idx in top_k_indices]"
      ],
      "metadata": {
        "id": "Cl9rRKs01bSw"
      },
      "execution_count": null,
      "outputs": []
    },
    {
      "cell_type": "markdown",
      "source": [
        "To test our implementation, let’s instantiate a copy of our database, initializing it with our pre-generated embeddings and downloaded recipe data, which will be stored as metadata.\n"
      ],
      "metadata": {
        "id": "o6ss-gwRauek"
      }
    },
    {
      "cell_type": "code",
      "source": [
        "# Craete and initialize database\n",
        "db = VectorDatabase(dimensions=384)\n",
        "db.initialize(embeddings=embeddings, metadata=data)"
      ],
      "metadata": {
        "id": "gKOUz8ZQmcIi"
      },
      "execution_count": null,
      "outputs": []
    },
    {
      "cell_type": "markdown",
      "source": [
        "Finally, let's attempt to search our database by seeing what the top 5 results are for the query, \"Buffalo Chicken\"!"
      ],
      "metadata": {
        "id": "n0F7O9TibR9a"
      }
    },
    {
      "cell_type": "code",
      "source": [
        "# Search stored data for\n",
        "results = db.search('Buffalo Chicken')\n",
        "\n",
        "# Print out results\n",
        "for i, result in enumerate(results):\n",
        "  print(f\"{i+1}: {result['title']}: {result['description'][:50]}...\")"
      ],
      "metadata": {
        "colab": {
          "base_uri": "https://localhost:8080/"
        },
        "id": "_95b8DxHE8w3",
        "outputId": "b83781d8-a0a7-4942-aae2-03a0af03dd93"
      },
      "execution_count": null,
      "outputs": [
        {
          "output_type": "stream",
          "name": "stdout",
          "text": [
            "1: Buffalo Chicken Dip: Enjoy with your favorite keto-friendly veggie for ...\n",
            "2: Buffalo Chicken Thigh, Mashed Potatoes, and Asparagus: The freshest ingredients, including garlic, cumin,...\n",
            "3: Pro JYM Boneless Buffalo Wings: Come on, you know you're looking for something new...\n",
            "4: Skinny Buffalo Chicken Dip: Everyone's favorite dip goes a bit \"lighter\" with ...\n",
            "5: Chicken Burger Topped With Feta, Roasted Red Bell Pepper & Arugula: Chicken is a great source of lean, high-quality pr...\n"
          ]
        }
      ]
    },
    {
      "cell_type": "markdown",
      "source": [
        "### Conclusion\n",
        "\n",
        "If you've made it this far, thank you for taking the time to read my post! I hope you learned a little bit about the usefulness of vector databases while gaining an appreciation for the mathmatics that powers similarity searches in modern NLP applications. In my next post, we are going to expand on some of concepts we covered here by diving into Retrieval Augmented Generation (known as RAG), which is one of the core applications of LLM and vector databases.\n",
        "\n",
        "I'll catch you next time!"
      ],
      "metadata": {
        "id": "wPCBPE5UD0lJ"
      }
    },
    {
      "cell_type": "code",
      "source": [],
      "metadata": {
        "id": "pjr9MWthsrbo"
      },
      "execution_count": null,
      "outputs": []
    }
  ]
}